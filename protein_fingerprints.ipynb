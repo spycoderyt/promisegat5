{
 "cells": [
  {
   "cell_type": "code",
   "execution_count": 1,
   "metadata": {},
   "outputs": [],
   "source": [
    "import numpy as np \n",
    "import pandas as pd\n",
    "from tqdm import tqdm\n",
    "import os\n",
    "import pickle\n",
    "from collections import defaultdict\n",
    "import pickle\n",
    "from os import walk\n",
    "from numpy import linalg as LA\n",
    "from collections import defaultdict"
   ]
  },
  {
   "cell_type": "markdown",
   "metadata": {},
   "source": [
    "# Scripts"
   ]
  },
  {
   "cell_type": "code",
   "execution_count": 2,
   "metadata": {},
   "outputs": [],
   "source": [
    "amino_list = [\n",
    "    \"ALA\",\n",
    "    \"ARG\",\n",
    "    \"ASN\",\n",
    "    \"ASP\",\n",
    "    \"CYS\",\n",
    "    \"GLN\",\n",
    "    \"GLU\",\n",
    "    \"GLY\",\n",
    "    \"HIS\",\n",
    "    \"ILE\",\n",
    "    \"LEU\",\n",
    "    \"LYS\",\n",
    "    \"MET\",\n",
    "    \"PHE\",\n",
    "    \"PRO\",\n",
    "    \"PYL\",\n",
    "    \"SER\",\n",
    "    \"SEC\",\n",
    "    \"THR\",\n",
    "    \"TRP\",\n",
    "    \"TYR\",\n",
    "    \"VAL\",\n",
    "    \"ASX\",\n",
    "    \"GLX\",\n",
    "    \"XAA\",\n",
    "    \"XLE\",\n",
    "]"
   ]
  },
  {
   "cell_type": "code",
   "execution_count": 3,
   "metadata": {},
   "outputs": [],
   "source": [
    "\n",
    "def parse_PDB(pdb_path, pdb_folder=\"protein_pdb_files/\"):\n",
    "    without_chain = False\n",
    "\n",
    "    with open(pdb_path, \"r\") as fi:\n",
    "        mdl = False\n",
    "        for ln in fi:\n",
    "            if ln.startswith(\"NUMMDL\"):\n",
    "                mdl = True\n",
    "                break\n",
    "\n",
    "    with open(pdb_path, \"r\") as fi:\n",
    "        id = []\n",
    "\n",
    "        if mdl:\n",
    "            for ln in fi:\n",
    "                if ln.startswith(\"ATOM\") or ln.startswith(\"HETATM\"):\n",
    "                    id.append(ln)\n",
    "                elif ln.startswith(\"ENDMDL\"):\n",
    "                    break\n",
    "        else:\n",
    "            for ln in fi:\n",
    "                if ln.startswith(\"ATOM\") or ln.startswith(\"HETATM\"):\n",
    "                    id.append(ln)\n",
    "\n",
    "    count = 0\n",
    "    seq = {}\n",
    "    seq[\"type_atm\"], seq[\"ind\"], seq[\"amino\"], seq[\"group\"], seq[\"coords\"] = (\n",
    "        [],\n",
    "        [],\n",
    "        [],\n",
    "        [],\n",
    "        [],\n",
    "    )\n",
    "\n",
    "    for element in id:\n",
    "        type_atm = element[0:6].strip().split()[0]\n",
    "        ind = int(element[6:12].strip().split()[0])\n",
    "        atom = element[12:17].strip().split()[0]\n",
    "        amino = element[17:21].strip().split()[0]\n",
    "        chain_id = element[21]\n",
    "        group_id = int(element[22:26].strip().split()[0])\n",
    "        x_coord = float(element[30:38].strip().split()[0])\n",
    "        y_coord = float(element[38:46].strip().split()[0])\n",
    "        z_coord = float(element[46:54].strip().split()[0])\n",
    "\n",
    "        coords = np.array([x_coord, y_coord, z_coord])\n",
    "\n",
    "        seq[\"type_atm\"].append(type_atm)\n",
    "        seq[\"ind\"].append(int(ind))\n",
    "        seq[\"amino\"].append(amino)\n",
    "        seq[\"group\"].append(int(group_id))\n",
    "        seq[\"coords\"].append(coords)\n",
    "\n",
    "        count += 1\n",
    "\n",
    "    return seq[\"type_atm\"], seq[\"amino\"], seq[\"group\"], seq[\"coords\"]\n"
   ]
  },
  {
   "cell_type": "code",
   "execution_count": 4,
   "metadata": {},
   "outputs": [],
   "source": [
    "\n",
    "def group_by_coords(group, amino, coords):\n",
    "    uniq_group = np.unique(group)\n",
    "    group_coords = np.zeros((uniq_group.shape[0], 3))\n",
    "\n",
    "    group_amino = []\n",
    "\n",
    "    np_group = np.array(group)\n",
    "\n",
    "    #taking the amino acid coord as the mean position of the amino acid atoms\n",
    "    for i, e in enumerate(uniq_group):\n",
    "        inds = np.where(np_group == e)[0]\n",
    "        group_coords[i, :] = np.mean(np.array(coords)[inds], axis=0)\n",
    "        group_amino.append(amino[inds[0]])\n",
    "\n",
    "    return group_coords, group_amino"
   ]
  },
  {
   "cell_type": "code",
   "execution_count": 5,
   "metadata": {},
   "outputs": [],
   "source": [
    "def get_graph_from_struct(group_coords, group_amino, max_residues=2000):\n",
    "    num_residues = group_coords.shape[0]\n",
    "\n",
    "    if num_residues > max_residues:\n",
    "        num_residues = max_residues\n",
    "\n",
    "    residues = group_amino[:num_residues]\n",
    "\n",
    "    retval = [[0 for i in range(0, num_residues)] for j in range(0, num_residues)]\n",
    "\n",
    "    residue_type = []\n",
    "    for i in range(0, num_residues):\n",
    "        if residues[i] == \"FME\":\n",
    "            residues[i] = \"MET\"\n",
    "        elif residues[i] not in amino_list:\n",
    "            residues[i] = \"TMP\"\n",
    "\n",
    "        residue_type.append(residues[i])\n",
    "\n",
    "        for j in range(i + 1, num_residues):\n",
    "            x, y = group_coords[i], group_coords[j]\n",
    "            retval[i][j] = LA.norm(x - y)\n",
    "            retval[j][i] = retval[i][j]\n",
    "\n",
    "    retval = np.array(retval)\n",
    "\n",
    "    # threshold = 9.5 #struct2graph \n",
    "    threshold = 7\n",
    "\n",
    "    for i in range(0, num_residues):\n",
    "        for j in range(0, num_residues):\n",
    "            if retval[i, j] <= threshold:\n",
    "                retval[i, j] = 1\n",
    "            else:\n",
    "                retval[i, j] = 0\n",
    "\n",
    "    n = retval.shape[0]\n",
    "    adjacency = retval + np.eye(n)\n",
    "    degree = sum(adjacency)\n",
    "    d_half = np.sqrt(np.diag(degree))\n",
    "    d_half_inv = np.linalg.inv(d_half)\n",
    "    adjacency = np.matmul(d_half_inv, np.matmul(adjacency, d_half_inv))\n",
    "    return residue_type, np.array(adjacency)\n"
   ]
  },
  {
   "cell_type": "code",
   "execution_count": 6,
   "metadata": {},
   "outputs": [],
   "source": [
    "\n",
    "def create_fingerprints(atoms, adjacency, radius):\n",
    "    fingerprints = []\n",
    "    if (len(atoms) == 1) or (radius == 0):\n",
    "        fingerprints = [fingerprint_dict[a] for a in atoms]\n",
    "    else:\n",
    "        for i in range(len(atoms)):\n",
    "            vertex = atoms[i]\n",
    "            neighbors = tuple(\n",
    "                set(tuple(sorted(atoms[np.where(adjacency[i] > 0.0001)[0]])))\n",
    "            )\n",
    "            fingerprint = (vertex, neighbors)\n",
    "            # print(fingerprint)\n",
    "            fingerprints.append(fingerprint_dict[fingerprint])\n",
    "    # print(fingerprints)\n",
    "    return np.array(fingerprints)"
   ]
  },
  {
   "cell_type": "code",
   "execution_count": 7,
   "metadata": {},
   "outputs": [],
   "source": [
    "def dump_dictionary(dictionary, file_name):\n",
    "    with open(file_name, \"wb\") as f:\n",
    "        pickle.dump(dict(dictionary), f)"
   ]
  },
  {
   "cell_type": "markdown",
   "metadata": {},
   "source": [
    "# loop"
   ]
  },
  {
   "cell_type": "code",
   "execution_count": 72,
   "metadata": {},
   "outputs": [],
   "source": [
    "protein_pdb_folder = \"protein_pdbs\"\n",
    "protein_fp_folder = \"protein_fingerprints\"\n",
    "adj_folder = os.path.join(protein_fp_folder,\"adj\")\n",
    "fp_folder = os.path.join(protein_fp_folder,\"fingerprint\")\n",
    "protein_pdb_files = [file for file in os.listdir(protein_pdb_folder) if file.endswith(\".pdb\")]"
   ]
  },
  {
   "cell_type": "code",
   "execution_count": 73,
   "metadata": {},
   "outputs": [
    {
     "name": "stderr",
     "output_type": "stream",
     "text": [
      "100%|██████████| 361/361 [03:24<00:00,  1.76it/s]\n"
     ]
    }
   ],
   "source": [
    "# transfer protein into fingerprint\n",
    "fingerprint_dict = defaultdict(lambda: len(fingerprint_dict))\n",
    "aa_dict = defaultdict(lambda: len(aa_dict))\n",
    "p_names, adjacencies, fingerprints = [],[],[]\n",
    "sample_protein = protein_pdb_files[0]\n",
    "for sample_protein in tqdm(protein_pdb_files):\n",
    "    uniprot_id = sample_protein.split(\".\")[0]\n",
    "    # print(f\"processing {uniprot_id}\")\n",
    "    pdb_path = os.path.join(protein_pdb_folder, sample_protein)\n",
    "    type_atm, amino, group, coords = parse_PDB(pdb_path)\n",
    "    group_coords, group_amino = group_by_coords(group, amino, coords)\n",
    "    residue_type,adjacency = get_graph_from_struct(group_coords, group_amino)\n",
    "    aminos = np.array([aa_dict[a] for a in residue_type])\n",
    "    # print(f\"aminos={aminos}\")\n",
    "    fingerprint = create_fingerprints(aminos, adjacency, 1)\n",
    "    # print(f\"fingerprints: {fingerprint}\")\n",
    "    p_names.append(uniprot_id)\n",
    "    adjacencies.append(adjacency)\n",
    "    fingerprints.append(fingerprint)\n",
    "    # transfer protein into adj list \n",
    "    np.save(os.path.join(adj_folder,uniprot_id),np.array(adjacency,dtype=object),allow_pickle=True)\n",
    "    # transfer protein into fingerprint list \n",
    "    np.save(os.path.join(fp_folder,uniprot_id),np.array(fingerprint,dtype=object),allow_pickle=True)\n"
   ]
  },
  {
   "cell_type": "code",
   "execution_count": 68,
   "metadata": {},
   "outputs": [],
   "source": [
    "adjacencies = np.array(adjacencies, dtype=object)\n",
    "fingerprints = np.array(fingerprints, dtype=object)"
   ]
  },
  {
   "cell_type": "code",
   "execution_count": 69,
   "metadata": {},
   "outputs": [],
   "source": [
    "np.save(os.path.join(protein_fp_folder, \"protein_names.npy\"), np.array(p_names), allow_pickle=True)\n",
    "np.save(os.path.join(protein_fp_folder, \"protein_adjacencies.npy\"), np.array(adjacencies), allow_pickle=True)\n",
    "np.save(os.path.join(protein_fp_folder, \"protein_fingerprints.npy\"), np.array(fingerprints), allow_pickle=True)"
   ]
  },
  {
   "cell_type": "code",
   "execution_count": null,
   "metadata": {},
   "outputs": [],
   "source": [
    "dump_dictionary(fingerprint_dict,os.path.join(protein_fp_folder,\"prot_fingerprint_dict.pickle\"))"
   ]
  },
  {
   "cell_type": "markdown",
   "metadata": {},
   "source": [
    "# debug"
   ]
  },
  {
   "cell_type": "code",
   "execution_count": 54,
   "metadata": {},
   "outputs": [],
   "source": [
    "test_adj = np.load(\"protein_fingerprints/old/protein_adjacencies.npy\",allow_pickle=True)\n"
   ]
  },
  {
   "cell_type": "code",
   "execution_count": 57,
   "metadata": {},
   "outputs": [
    {
     "ename": "ValueError",
     "evalue": "setting an array element with a sequence. The requested array has an inhomogeneous shape after 1 dimensions. The detected shape was (361,) + inhomogeneous part.",
     "output_type": "error",
     "traceback": [
      "\u001b[0;31m---------------------------------------------------------------------------\u001b[0m",
      "\u001b[0;31mValueError\u001b[0m                                Traceback (most recent call last)",
      "Cell \u001b[0;32mIn[57], line 1\u001b[0m\n\u001b[0;32m----> 1\u001b[0m \u001b[43mnp\u001b[49m\u001b[38;5;241;43m.\u001b[39;49m\u001b[43msave\u001b[49m\u001b[43m(\u001b[49m\u001b[38;5;124;43m\"\u001b[39;49m\u001b[38;5;124;43mtest_adj.npy\u001b[39;49m\u001b[38;5;124;43m\"\u001b[39;49m\u001b[43m,\u001b[49m\u001b[43madjacencies\u001b[49m\u001b[43m)\u001b[49m\n",
      "File \u001b[0;32m~/promisegat4/venv/lib/python3.12/site-packages/numpy/lib/_npyio_impl.py:573\u001b[0m, in \u001b[0;36msave\u001b[0;34m(file, arr, allow_pickle, fix_imports)\u001b[0m\n\u001b[1;32m    570\u001b[0m     file_ctx \u001b[38;5;241m=\u001b[39m \u001b[38;5;28mopen\u001b[39m(file, \u001b[38;5;124m\"\u001b[39m\u001b[38;5;124mwb\u001b[39m\u001b[38;5;124m\"\u001b[39m)\n\u001b[1;32m    572\u001b[0m \u001b[38;5;28;01mwith\u001b[39;00m file_ctx \u001b[38;5;28;01mas\u001b[39;00m fid:\n\u001b[0;32m--> 573\u001b[0m     arr \u001b[38;5;241m=\u001b[39m \u001b[43mnp\u001b[49m\u001b[38;5;241;43m.\u001b[39;49m\u001b[43masanyarray\u001b[49m\u001b[43m(\u001b[49m\u001b[43marr\u001b[49m\u001b[43m)\u001b[49m\n\u001b[1;32m    574\u001b[0m     \u001b[38;5;28mformat\u001b[39m\u001b[38;5;241m.\u001b[39mwrite_array(fid, arr, allow_pickle\u001b[38;5;241m=\u001b[39mallow_pickle,\n\u001b[1;32m    575\u001b[0m                        pickle_kwargs\u001b[38;5;241m=\u001b[39m\u001b[38;5;28mdict\u001b[39m(fix_imports\u001b[38;5;241m=\u001b[39mfix_imports))\n",
      "\u001b[0;31mValueError\u001b[0m: setting an array element with a sequence. The requested array has an inhomogeneous shape after 1 dimensions. The detected shape was (361,) + inhomogeneous part."
     ]
    }
   ],
   "source": [
    "np.save(\"test_adj.npy\",adjacecnies)"
   ]
  },
  {
   "cell_type": "code",
   "execution_count": 71,
   "metadata": {},
   "outputs": [],
   "source": []
  },
  {
   "cell_type": "code",
   "execution_count": 70,
   "metadata": {},
   "outputs": [
    {
     "ename": "FileNotFoundError",
     "evalue": "[Errno 2] No such file or directory: 'protein_fingerprints/fingerprint_dict.pickle'",
     "output_type": "error",
     "traceback": [
      "\u001b[0;31m---------------------------------------------------------------------------\u001b[0m",
      "\u001b[0;31mFileNotFoundError\u001b[0m                         Traceback (most recent call last)",
      "Cell \u001b[0;32mIn[70], line 1\u001b[0m\n\u001b[0;32m----> 1\u001b[0m test_dict \u001b[38;5;241m=\u001b[39m \u001b[43mnp\u001b[49m\u001b[38;5;241;43m.\u001b[39;49m\u001b[43mload\u001b[49m\u001b[43m(\u001b[49m\u001b[43mos\u001b[49m\u001b[38;5;241;43m.\u001b[39;49m\u001b[43mpath\u001b[49m\u001b[38;5;241;43m.\u001b[39;49m\u001b[43mjoin\u001b[49m\u001b[43m(\u001b[49m\u001b[43mprotein_fp_folder\u001b[49m\u001b[43m,\u001b[49m\u001b[38;5;124;43m\"\u001b[39;49m\u001b[38;5;124;43mfingerprint_dict.pickle\u001b[39;49m\u001b[38;5;124;43m\"\u001b[39;49m\u001b[43m)\u001b[49m\u001b[43m,\u001b[49m\u001b[43mallow_pickle\u001b[49m\u001b[38;5;241;43m=\u001b[39;49m\u001b[38;5;28;43;01mTrue\u001b[39;49;00m\u001b[43m)\u001b[49m\n",
      "File \u001b[0;32m~/promisegat4/venv/lib/python3.12/site-packages/numpy/lib/_npyio_impl.py:455\u001b[0m, in \u001b[0;36mload\u001b[0;34m(file, mmap_mode, allow_pickle, fix_imports, encoding, max_header_size)\u001b[0m\n\u001b[1;32m    453\u001b[0m     own_fid \u001b[38;5;241m=\u001b[39m \u001b[38;5;28;01mFalse\u001b[39;00m\n\u001b[1;32m    454\u001b[0m \u001b[38;5;28;01melse\u001b[39;00m:\n\u001b[0;32m--> 455\u001b[0m     fid \u001b[38;5;241m=\u001b[39m stack\u001b[38;5;241m.\u001b[39menter_context(\u001b[38;5;28;43mopen\u001b[39;49m\u001b[43m(\u001b[49m\u001b[43mos\u001b[49m\u001b[38;5;241;43m.\u001b[39;49m\u001b[43mfspath\u001b[49m\u001b[43m(\u001b[49m\u001b[43mfile\u001b[49m\u001b[43m)\u001b[49m\u001b[43m,\u001b[49m\u001b[43m \u001b[49m\u001b[38;5;124;43m\"\u001b[39;49m\u001b[38;5;124;43mrb\u001b[39;49m\u001b[38;5;124;43m\"\u001b[39;49m\u001b[43m)\u001b[49m)\n\u001b[1;32m    456\u001b[0m     own_fid \u001b[38;5;241m=\u001b[39m \u001b[38;5;28;01mTrue\u001b[39;00m\n\u001b[1;32m    458\u001b[0m \u001b[38;5;66;03m# Code to distinguish from NumPy binary files and pickles.\u001b[39;00m\n",
      "\u001b[0;31mFileNotFoundError\u001b[0m: [Errno 2] No such file or directory: 'protein_fingerprints/fingerprint_dict.pickle'"
     ]
    }
   ],
   "source": [
    "test_dict = np.load(os.path.join(protein_fp_folder,\"fingerprint_dict.pickle\"),allow_pickle=True)"
   ]
  },
  {
   "cell_type": "code",
   "execution_count": 19,
   "metadata": {},
   "outputs": [
    {
     "name": "stdout",
     "output_type": "stream",
     "text": [
      "threshold = 7\n"
     ]
    },
    {
     "data": {
      "text/plain": [
       "59238"
      ]
     },
     "execution_count": 19,
     "metadata": {},
     "output_type": "execute_result"
    }
   ],
   "source": [
    "print(\"threshold = 7\")\n",
    "len(fingerprint_dict)"
   ]
  },
  {
   "cell_type": "code",
   "execution_count": 16,
   "metadata": {},
   "outputs": [
    {
     "data": {
      "text/plain": [
       "array([ 2937,  6674,   729,   503,  2397,  2375,  1803,  1861,  4245,\n",
       "        1861,  5642,   503,   608,  7253,  1226,  1307,  1327,  4335,\n",
       "        5064,  5648, 42649,  1828, 10680,   392, 17999,  2822,  4584,\n",
       "       17663,  1442, 16858,  8057,  4992, 42650,  5542, 21056, 42651,\n",
       "       42652, 42653, 11230, 20433, 42654,  1236, 42655,  4803,  1302,\n",
       "        4164,  4548,  1303, 10063, 42656,  1255,  2939,  4965,  8998,\n",
       "        8997, 42657,   452,  8405, 39169, 16114, 42658, 42659, 42660,\n",
       "       42661, 42662, 42663, 42664, 42665, 42666, 42667, 11562,    79,\n",
       "         824, 42668, 19181, 11517, 42669, 42670, 42671, 42672, 42673,\n",
       "       42674, 42675, 38748,  2454, 42676, 42677, 42678, 42679, 42680,\n",
       "       42681, 42682, 42683, 42684, 42685, 42686,  5632, 21160, 42687,\n",
       "       42688, 42689, 42690, 42691, 42692, 42693, 42694, 42695, 42696,\n",
       "       42697, 42698, 42699,   522, 10898,   503,  2527, 42700, 42701,\n",
       "       42702, 42703, 42704, 42705, 42706, 15948, 22292, 42313,   503,\n",
       "       11543, 42314, 42315, 42316, 42317, 42318, 42707, 42708,  1775,\n",
       "       42709, 42321, 42322, 42323, 42324, 42325, 42710, 42711, 42328,\n",
       "       42329, 42330, 42331, 42712, 42713, 42714, 42715, 30644, 42716,\n",
       "       42717, 42718,   792, 31726, 42719, 42720, 42721, 42722, 42723,\n",
       "       42724, 42342, 23167, 42344,  1560, 42725, 19855, 42346, 42347,\n",
       "       39124,  6751, 42726, 10468, 42349, 42178, 42727, 42352, 42353,\n",
       "       42728, 42729, 42356, 42730, 42731, 42359, 17671, 42360, 42361,\n",
       "       42362, 42732, 42364, 42365, 42733, 42734,  2938,  4248,   610,\n",
       "         608,   609, 28273,   585,  8004, 10713,  2432, 42369,  6289,\n",
       "       42370,  6888, 22689, 15733,   507, 42372, 42735, 42374,  4181,\n",
       "       15364,  1828, 11435,   474, 20740, 42736, 42375, 31824, 42737,\n",
       "       22568, 42738, 42739, 21966, 42740,   851,  1720,  4720, 37988,\n",
       "       17430, 42741, 42742, 17237,  7379, 28237,  4391, 42743,  7703,\n",
       "        2130,  4391, 42744, 42383,  4422, 42745, 24844, 19862,  1859,\n",
       "        1495,  1575,  1871,  2377,  2793,   523,  1226,  5650,  4241,\n",
       "       14190,   749, 10633, 10667, 10633,   456, 10633,  6964,  2177,\n",
       "       42746, 42747, 42748, 42749, 25150,  6175, 11841, 24004, 11974,\n",
       "         298,   792,  1007, 19061,  9568, 11297,  5615,   791,   298,\n",
       "         449,   966,  1635,  5529, 14217, 34993,  4168, 42385, 17295,\n",
       "         749,   610,  1861,   521,   504,   503,   523,  2793,  1007,\n",
       "       15043,  7952,  7951, 10895,  1710,  2877, 10682,  6771, 42750,\n",
       "       42751, 15017,  5642,   503,  1326,  1871,  2401,   965,   965,\n",
       "        2358, 42392,  4239,  4238, 10923,   659,  8855,  8036,  5642,\n",
       "        1226,  3103,  1191,   808,  3977, 19957, 15188,  1547,  1112,\n",
       "        1112,   793,  6923,   792,   792,  1015,  4730, 42752, 42753,\n",
       "       42397, 42754, 42399, 42755, 42756, 42757,  1388, 42403, 42758,\n",
       "       42759, 42760, 36556, 42761, 42762, 15825, 42407,  5162, 42763,\n",
       "       42409, 42410, 42764,  4204, 42411, 42412, 42413, 42414, 42765,\n",
       "       42415, 42416, 42417, 42766, 42419, 42420,   715, 42767, 42422,\n",
       "       42423, 40142, 42768, 42425, 42426, 40019,  8022,  2929,  4940,\n",
       "       42769, 42427, 42770, 42771, 42431, 42772, 42773, 42434, 42435,\n",
       "       42774,  7307, 42775, 42439,  6888, 42439, 42441, 21162, 42776,\n",
       "       42777, 42778, 42779, 42445, 42780, 42447,  2682, 31439, 16829,\n",
       "       42449, 42781, 20941, 42450, 38652, 42782, 42783, 42784, 30058,\n",
       "       42785, 42786, 42787, 42788, 42789, 42790, 42791, 42792, 42793,\n",
       "       42794, 30512, 42795, 42796, 42797, 42798,  6247, 42799, 42799,\n",
       "       42800,  1369,   781,   545,  9119, 42801, 18655,  6766, 28597,\n",
       "       42802, 42803, 42804, 14996,  6618, 42804, 42805,  3479, 14996,\n",
       "       24063, 11770,  4468, 42806, 42807, 42806,  4469, 42808, 42809,\n",
       "       42810,   681, 42811, 42812, 42813, 29611, 14275,  6189, 42814,\n",
       "       42815, 42816, 14384, 42817, 42818, 42819,  5425, 40609, 42453,\n",
       "       42454, 42455, 42456,    79,  2879,  8837, 12565, 42457, 42458,\n",
       "       42459, 42820, 42821, 42822, 42462, 42463, 42464, 42465, 42466,\n",
       "       18463, 11075, 42468, 17006, 42469, 42470, 42471, 42472, 42823,\n",
       "       42824, 42475, 42825, 42477, 42478, 42479,  7309,  9130, 42480,\n",
       "        1325,  1801, 42481, 42482, 42483, 15030, 42484, 42485, 42486,\n",
       "       42487, 39042, 39042, 42826, 42827, 42828, 42489, 42490, 42491,\n",
       "       42492, 42829, 42493, 23950,   167,  7251,  7251, 42830, 42495,\n",
       "       42496,   726, 42831, 42498, 40508,  1166, 42832, 42501, 16134,\n",
       "       42502,  4512, 42503, 42504, 42505, 42506, 42507, 42508, 42506,\n",
       "       14295, 42510, 42511, 42512, 42513,  1001,   464,  1000,  1545,\n",
       "         465,  1341,  1546,  1546, 42833, 28153, 42515, 42834, 42835,\n",
       "       42516, 37388, 42517,   462,  8074, 42518, 42519,  6186, 42520,\n",
       "       42521, 42372, 42451, 11077,  9987, 17510, 42522, 17785,  7974,\n",
       "       42836, 42524, 17786, 42525, 42837, 42838,  3574, 42839, 42528,\n",
       "       42529, 42840, 42531, 42532, 42533, 42841,  3098, 36721, 42534,\n",
       "       42535, 42536, 42537, 42538, 42539, 18322, 32788, 42540, 42541,\n",
       "       42842, 42843, 42544,  6081, 42546, 42844, 42548, 33393, 39496,\n",
       "       42549, 42845, 42550, 42551, 42552, 42553, 42846, 42555, 42556,\n",
       "       42847, 42557, 42558, 42848, 42560, 42849,   175, 42562, 22563,\n",
       "       42850, 42564, 42565, 42566, 42851, 42568, 42569, 42570, 42571,\n",
       "       42572, 42573, 10792,  3597, 42574, 42575, 42576, 27282, 42577,\n",
       "       22733, 42852, 42579, 42853, 42581, 40040, 42854, 18978, 42583,\n",
       "        8099,  4426, 42382, 42584,  1314, 42585, 42586, 42587, 42588,\n",
       "       42589, 42590, 30482, 42591, 41422,  4150, 24004,   177,  4803,\n",
       "       28374, 28728, 42596, 20721,  6936,  2358,  1802,   521,  2391,\n",
       "        1873,  4729,  1006, 27027,  2814,  2126,  8033,  8034,  1325,\n",
       "        6934,  2390, 42597, 32311, 11796, 19373,  3090,  2835,  1638,\n",
       "        1010, 20677, 17286,  2157,  7963,  1307,  1708, 42855, 42856,\n",
       "       42857,  6038, 10142, 21173,  2834, 18619,  2395,  4529,  5089,\n",
       "        1644,  1645,  4547,  4728,  4547,  1302, 14239, 14327,   786,\n",
       "        2397,  4248,  5105,  7042,  2431,  2397,  2929, 10657,   485,\n",
       "        1756,  1356,  1802,  7146,  2814,  8054,  1756,   484,  6936])"
      ]
     },
     "execution_count": 16,
     "metadata": {},
     "output_type": "execute_result"
    }
   ],
   "source": [
    "fingerprints[200]"
   ]
  },
  {
   "cell_type": "code",
   "execution_count": 24,
   "metadata": {},
   "outputs": [],
   "source": [
    "# test_dict = np.load(os.path.join(protein_fp_folder,\"protein_fingerprints.npy\"),allow_pickle=True)"
   ]
  },
  {
   "cell_type": "code",
   "execution_count": 29,
   "metadata": {},
   "outputs": [],
   "source": [
    "test_dict = np.load(\"protein_fingerprints/fingerprint_dict.pickle\",allow_pickle=True)"
   ]
  },
  {
   "cell_type": "code",
   "execution_count": 30,
   "metadata": {},
   "outputs": [
    {
     "data": {
      "text/plain": [
       "{(0, (2,)): 0,\n",
       " (0, (2, 2)): 1,\n",
       " (1, (2, 2)): 2,\n",
       " (2, (2, 2, 2)): 3,\n",
       " (2, (2,)): 4,\n",
       " (2, (2, 2)): 5,\n",
       " (1, (2, 2, 2)): 6,\n",
       " (1, (2,)): 7,\n",
       " (2, (2, 2, 2, 2)): 8,\n",
       " (3, (0, 0, 0, 0)): 9,\n",
       " (3, (1, 2)): 10,\n",
       " (3, (2, 2)): 11,\n",
       " (1, (1, 2, 2)): 12,\n",
       " (4, (2,)): 13,\n",
       " (0, (1, 2)): 14,\n",
       " (1, (2, 2, 5)): 15,\n",
       " (3, (2,)): 16,\n",
       " (6, (2,)): 17,\n",
       " (7, (2,)): 18,\n",
       " (8, (2,)): 19,\n",
       " (1, (2, 2, 2, 2)): 20,\n",
       " (1, (1,)): 21,\n",
       " (1, (1, 1, 2)): 22,\n",
       " (0, (1,)): 23,\n",
       " (0, (1, 1)): 24,\n",
       " (9, (0, 0, 0, 2)): 25,\n",
       " (9, (2,)): 26,\n",
       " (3, (1, 1)): 27,\n",
       " (9, (0, 0, 0, 0)): 28,\n",
       " (9, (0,)): 29,\n",
       " (1, (1, 2)): 30,\n",
       " (3, (3, 2)): 31,\n",
       " (3, (0, 2)): 32,\n",
       " (1, (1, 1)): 33,\n",
       " (3, (0, 0, 2, 2)): 34,\n",
       " (9, (1,)): 35,\n",
       " (3, (0,)): 36,\n",
       " (1, (1, 1, 1, 2)): 37,\n",
       " (3, (3,)): 38,\n",
       " (3, (0, 0, 1, 2)): 39,\n",
       " (3, (0, 0, 0, 2)): 40,\n",
       " (3, (9, 9)): 41,\n",
       " (9, (0, 0, 0)): 42}"
      ]
     },
     "execution_count": 30,
     "metadata": {},
     "output_type": "execute_result"
    }
   ],
   "source": [
    "test_dict"
   ]
  },
  {
   "cell_type": "code",
   "execution_count": 10,
   "metadata": {},
   "outputs": [
    {
     "ename": "SyntaxError",
     "evalue": "incomplete input (4064245176.py, line 4)",
     "output_type": "error",
     "traceback": [
      "\u001b[0;36m  Cell \u001b[0;32mIn[10], line 4\u001b[0;36m\u001b[0m\n\u001b[0;31m    for file in os.listdir(protein_folder):\u001b[0m\n\u001b[0m                                           ^\u001b[0m\n\u001b[0;31mSyntaxError\u001b[0m\u001b[0;31m:\u001b[0m incomplete input\n"
     ]
    }
   ],
   "source": [
    "prots = []\n",
    "protein_folder = \"protein_pdbs\"\n",
    "protein_fingerprints_folder = \"protein_fingerprints\"\n",
    "for file in os.listdir(protein_folder):"
   ]
  }
 ],
 "metadata": {
  "kernelspec": {
   "display_name": "promisegat4",
   "language": "python",
   "name": "promisegat4"
  },
  "language_info": {
   "codemirror_mode": {
    "name": "ipython",
    "version": 3
   },
   "file_extension": ".py",
   "mimetype": "text/x-python",
   "name": "python",
   "nbconvert_exporter": "python",
   "pygments_lexer": "ipython3",
   "version": "3.12.4"
  }
 },
 "nbformat": 4,
 "nbformat_minor": 2
}
