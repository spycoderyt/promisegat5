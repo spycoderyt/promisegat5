{
 "cells": [
  {
   "cell_type": "code",
   "execution_count": 1,
   "metadata": {},
   "outputs": [],
   "source": [
    "import torch.nn as nn\n",
    "from tqdm import tqdm\n",
    "import torch\n",
    "import numpy as np\n",
    "from sklearn.metrics import roc_auc_score, roc_curve, auc\n",
    "import wandb\n",
    "import pandas as pd\n",
    "from sklearn.model_selection import KFold\n",
    "\n",
    "import pickle\n",
    "import timeit\n",
    "import os\n",
    "import random\n",
    "import glob\n",
    "import pandas as pd\n",
    "import numpy as np\n",
    "\n",
    "import torch\n",
    "import torch.nn as nn\n",
    "import torch.nn.functional as F\n",
    "import torch.optim as optim\n",
    "\n",
    "from sklearn.metrics import roc_auc_score\n",
    "from sklearn.model_selection import KFold\n",
    "\n",
    "from sklearn.metrics import roc_curve, auc\n",
    "\n",
    "\n",
    "class ProteinProteinInteractionPrediction(nn.Module):\n",
    "    def __init__(self,mod_embed,prot_embed,dim=20,layer_gnn=2):\n",
    "        super(ProteinProteinInteractionPrediction, self).__init__()\n",
    "        self.prot_embed_fingerprint = nn.Embedding(n_fingerprint, dim)\n",
    "        self.mod_embed_fingerprint = nn.Embedding(nmod_fingerprint, dim)\n",
    "        self.mod_W_gnn = nn.ModuleList([nn.Linear(dim, dim) for _ in range(layer_gnn)])\n",
    "        self.prot_gnn = nn.ModuleList([nn.Linear(dim, dim) for _ in range(layer_gnn)])\n",
    "        self.prot_W1_attention = nn.Linear(dim, dim)\n",
    "        self.prot_W2_attention = nn.Linear(dim, dim)\n",
    "        self.prot_w = nn.Parameter(torch.zeros(dim))\n",
    "        self.W1_attention = nn.Linear(dim, dim)\n",
    "        self.W2_attention = nn.Linear(2*dim, dim)  # Modified to accept concatenated protein vector\n",
    "        self.w = nn.Parameter(torch.zeros(dim))\n",
    "        self.W_out = nn.Sequential(\n",
    "            nn.Linear(2*dim, 128),\n",
    "            nn.ReLU(),\n",
    "            nn.Linear(128, 64),\n",
    "            nn.ReLU(),\n",
    "            nn.Linear(64,16),\n",
    "            nn.ReLU(),\n",
    "            nn.Linear(16, 2)\n",
    "        )\n",
    "        \n",
    "        self.mod_embed = mod_embed\n",
    "        self.prot_embed = prot_embed\n",
    "\n",
    "        self.rdkit_linear = nn.Linear(2048, dim)\n",
    "\n",
    "    def gnn(self, xs1, A1, type):\n",
    "        for i in range(layer_gnn):\n",
    "            if type == \"mod\":\n",
    "                hs1 = torch.relu(self.mod_W_gnn[i](xs1))\n",
    "            elif type == \"prot\":\n",
    "                hs1 = torch.relu(self.prot_gnn[i](xs1))\n",
    "            xs1 = torch.matmul(A1, hs1)\n",
    "\n",
    "        return xs1\n",
    "    \n",
    "    def mutual_attention(self, h1, h2):\n",
    "        x1 = self.W1_attention(h1)\n",
    "        x2 = self.W2_attention(h2)\n",
    "\n",
    "        m1 = x1.size()[0]\n",
    "        m2 = x2.size()[0]\n",
    "\n",
    "        c1 = x1.repeat(1, m2).view(m1, m2, dim)\n",
    "        c2 = x2.repeat(m1, 1).view(m1, m2, dim)\n",
    "\n",
    "        d = torch.tanh(c1 + c2)\n",
    "        alpha = torch.matmul(d, self.w).view(m1, m2)\n",
    "\n",
    "        b1 = torch.mean(alpha, 1)\n",
    "        p1 = torch.softmax(b1, 0)\n",
    "        s1 = torch.matmul(torch.t(x1), p1).view(-1, 1)\n",
    "\n",
    "        b2 = torch.mean(alpha, 0)\n",
    "        p2 = torch.softmax(b2, 0)\n",
    "        s2 = torch.matmul(torch.t(x2), p2).view(-1, 1)\n",
    "\n",
    "        return torch.cat((s1, s2), 0).view(1, -1), p1, p2\n",
    "    def prot_mutual_attention(self, h1, h2):\n",
    "        x1 = self.prot_W1_attention(h1)\n",
    "        x2 = self.prot_W2_attention(h2)\n",
    "\n",
    "        m1 = x1.size()[0]\n",
    "        m2 = x2.size()[0]\n",
    "\n",
    "        c1 = x1.repeat(1, m2).view(m1, m2, dim)\n",
    "        c2 = x2.repeat(m1, 1).view(m1, m2, dim)\n",
    "\n",
    "        d = torch.tanh(c1 + c2)\n",
    "        alpha = torch.matmul(d, self.prot_w).view(m1, m2)\n",
    "\n",
    "        b1 = torch.mean(alpha, 1)\n",
    "        p1 = torch.softmax(b1, 0)\n",
    "        s1 = torch.matmul(torch.t(x1), p1).view(-1, 1)\n",
    "\n",
    "        b2 = torch.mean(alpha, 0)\n",
    "        p2 = torch.softmax(b2, 0)\n",
    "        s2 = torch.matmul(torch.t(x2), p2).view(-1, 1)\n",
    "\n",
    "        return torch.cat((s1, s2), 0).view(1, -1), p1, p2\n",
    "\n",
    "    def forward(self, inputs, train = True):\n",
    "        fingerprints1, adjacency1, fingerprints2, adjacency2, fingerprints3, adjacency3, smiles = inputs\n",
    "\n",
    "        \"\"\"Protein vector with GNN.\"\"\"\n",
    "        x_fingerprints1 = self.mod_embed_fingerprint(fingerprints1)\n",
    "        x_fingerprints2 = self.prot_embed_fingerprint(fingerprints2)\n",
    "        x_fingerprints3 = self.prot_embed_fingerprint(fingerprints3)\n",
    "        if self.mod_embed == \"gnn\":\n",
    "            x_mod = self.gnn(x_fingerprints1, adjacency1, \"mod\")\n",
    "        elif self.mod_embed == \"rdkit\":\n",
    "            # Implement RDKit molecular fingerprinting\n",
    "            from rdkit import Chem\n",
    "            from rdkit.Chem import rdFingerprintGenerator\n",
    "\n",
    "            # Convert SMILES to RDKit mol object\n",
    "            mol = Chem.MolFromSmiles(smiles)\n",
    "            # Generate Morgan fingerprint\n",
    "            morgan_gen = rdFingerprintGenerator.GetMorganGenerator(radius=2,fpSize=2048)\n",
    "            morgan_fp = morgan_gen.GetFingerprint(mol)\n",
    "            # Convert bit vector to PyTorch tensor\n",
    "            x_mod = torch.tensor([int(b) for b in morgan_fp.ToBitString()]).float().view(1, -1)\n",
    "            x_mod = self.rdkit_linear(x_mod)            \n",
    "        elif self.mod_embed == \"graphmvp\":\n",
    "            x_mod = self.graphmvp_embed(fingerprints1)\n",
    "        elif self.mod_embed == \"infograph\":\n",
    "            x_mod = self.infograph_embed(fingerprints1)\n",
    "\n",
    "        if self.prot_embed == \"gnn\":\n",
    "            x_protein2 = self.gnn(x_fingerprints2, adjacency2, \"prot\")\n",
    "            x_protein3 = self.gnn(x_fingerprints3, adjacency3, \"prot\")\n",
    "        # x_mod = N, dim\n",
    "\n",
    "        \"\"\"Concatenate protein vectors\"\"\"\n",
    "        x_proteins, p1, p2 = self.prot_mutual_attention(x_protein2, x_protein3)\n",
    "        \"\"\"Protein vector with mutual-attention.\"\"\"\n",
    "        y, p1, p2 = self.mutual_attention(x_mod, x_proteins)\n",
    "\n",
    "        z_interaction = self.W_out(y)\n",
    "        # ADD CHEMICAL FEATURE VECTOR HERE \n",
    "        return z_interaction, p1, p2\n",
    "\n",
    "    def __call__(self, data, train=True):\n",
    "        inputs, t_interaction_list = data[:-1], data[-1]\n",
    "        # inputs = list(zip(*inputs))\n",
    "        # print(inputs[0])\n",
    "\n",
    "        z_interaction_list = []\n",
    "        import concurrent.futures\n",
    "        from concurrent.futures import ThreadPoolExecutor   \n",
    "        \n",
    "        with ThreadPoolExecutor(max_workers=64) as executor:\n",
    "            # future = executor.submit(self.forward, inputs, train)\n",
    "            futures = {executor.submit(self.forward, input, train): idx for idx, input in enumerate(zip(*inputs))}\n",
    "            for future in concurrent.futures.as_completed(futures):\n",
    "                idx = futures[future]\n",
    "                z_interaction, p1, p2 = future.result()\n",
    "                z_interaction_list.insert(idx, z_interaction)\n",
    "        \n",
    "        if train:\n",
    "            z_interaction_list = torch.stack(z_interaction_list,dim=1).squeeze(0).float()\n",
    "            t_interaction_list = torch.nn.functional.one_hot(t_interaction_list, num_classes=2).float()\n",
    "            # print(z_interaction_list.shape, t_interaction_list.shape)\n",
    "            loss = F.cross_entropy(z_interaction_list, t_interaction_list)\n",
    "            return loss\n",
    "        else:\n",
    "            z_interaction_list = torch.stack(z_interaction_list, dim=1).squeeze(0).float()\n",
    "            t_interaction_list = t_interaction_list.to(\"cpu\").data.numpy()\n",
    "            z = F.softmax(z_interaction_list, 1).to(\"cpu\").data.numpy()\n",
    "            return z, t_interaction_list, p1, p2"
   ]
  },
  {
   "cell_type": "code",
   "execution_count": 2,
   "metadata": {},
   "outputs": [],
   "source": [
    "class Trainer(object):\n",
    "    def __init__(self, model, lr=1e-4, train_size=3000, batch_size=32):\n",
    "        self.model = model\n",
    "        self.optimizer = optim.Adam(self.model.parameters(), lr=lr)\n",
    "        self.train_size = train_size\n",
    "        self.batch_size = batch_size\n",
    "\n",
    "    def train(self, dataset):\n",
    "        self.model.train()  # Set model to training mode\n",
    "        sampling = random.choices(dataset, k=self.train_size)\n",
    "        loss_total = 0\n",
    "\n",
    "        for i in tqdm(range(0, len(sampling), self.batch_size)):\n",
    "            batch = sampling[i:i + self.batch_size]\n",
    "            mod_fps, mod_adjs, proteins1, adjacencies1, proteins2, adjacencies2, smiles_list, interactions = [], [], [], [], [], [], [], []\n",
    "\n",
    "            for data in batch:\n",
    "                try:\n",
    "                    mod, p1, p2, interaction, family = data\n",
    "                    A1 = np.load(\n",
    "                        prot_data[prot_data['protein'] == p1].iloc[0]['adj_path'],\n",
    "                        allow_pickle=True\n",
    "                    )\n",
    "                    A2 = np.load(\n",
    "                        prot_data[prot_data['protein'] == p2].iloc[0]['adj_path'],\n",
    "                        allow_pickle=True\n",
    "                    )\n",
    "                    P1 = np.load(\n",
    "                        prot_data[prot_data['protein'] == p1].iloc[0]['fp_path'],\n",
    "                        allow_pickle=True\n",
    "                    )\n",
    "                    P2 = np.load(\n",
    "                        prot_data[prot_data['protein'] == p2].iloc[0]['fp_path'],\n",
    "                        allow_pickle=True\n",
    "                    )\n",
    "                    mod_fp = np.load(\n",
    "                        mod_data[mod_data['inchikey'] == mod].iloc[0]['fp_path'],\n",
    "                        allow_pickle=True\n",
    "                    )\n",
    "                    mod_adj = np.load(\n",
    "                        mod_data[mod_data['inchikey'] == mod].iloc[0]['adj_path'],\n",
    "                        allow_pickle=True\n",
    "                    )\n",
    "                    smiles = mod_data[mod_data['inchikey'] == mod].iloc[0]['smiles']\n",
    "                except Exception as e:\n",
    "                    # print(f\"failed for {e}\")\n",
    "                    continue\n",
    "\n",
    "                proteins1.append(torch.LongTensor(P1.astype(np.float32)))\n",
    "                proteins2.append(torch.LongTensor(P2.astype(np.float32)))\n",
    "                adjacencies1.append(torch.FloatTensor(A1.astype(np.float32)))\n",
    "                adjacencies2.append(torch.FloatTensor(A2.astype(np.float32)))\n",
    "                mod_fps.append(torch.LongTensor(mod_fp.astype(np.float32)))\n",
    "                mod_adjs.append(torch.FloatTensor(mod_adj.astype(np.float32)))\n",
    "                smiles_list.append(smiles)\n",
    "                interactions.append(torch.LongTensor([interaction.astype(int)]))\n",
    "\n",
    "            if len(proteins1) == 0:\n",
    "                continue\n",
    "\n",
    "            proteins1 = [p.to(device) for p in proteins1]\n",
    "            proteins2 = [p.to(device) for p in proteins2]\n",
    "            adjacencies1 = [a.to(device) for a in adjacencies1]\n",
    "            adjacencies2 = [a.to(device) for a in adjacencies2]\n",
    "            mod_fps = [m.to(device) for m in mod_fps]\n",
    "            mod_adjs = [m.to(device) for m in mod_adjs]\n",
    "            interactions = torch.cat(interactions).to(device)\n",
    "\n",
    "            comb = (mod_fps, mod_adjs, proteins1, adjacencies1, proteins2, adjacencies2, smiles_list, interactions)\n",
    "            loss = self.model(comb)\n",
    "            self.optimizer.zero_grad()\n",
    "            loss.backward()\n",
    "            self.optimizer.step()\n",
    "            loss_total += loss.item()\n",
    "\n",
    "        return loss_total / len(sampling)\n"
   ]
  },
  {
   "cell_type": "code",
   "execution_count": 3,
   "metadata": {},
   "outputs": [],
   "source": [
    "\n",
    "\n",
    "class Tester(object):\n",
    "    def __init__(self, model, batch_size = 10, test_size = 1000, wandb_project_name=False):\n",
    "        self.model = model\n",
    "        self.test_size = test_size\n",
    "        self.batch_size = batch_size\n",
    "    def test(self, dataset, epoch=None):\n",
    "        sampling = random.choices(dataset, k=self.test_size)\n",
    "        z_list, t_list = [], []\n",
    "        \n",
    "        for i in tqdm(range(0, len(sampling), self.batch_size)):\n",
    "            batch = sampling[i:i + self.batch_size]\n",
    "            mod_fps, mod_adjs, proteins1, adjacencies1, proteins2, adjacencies2, smiles_list, interactions = [], [], [], [], [], [], [], []\n",
    "\n",
    "            for data in batch:\n",
    "                try:\n",
    "                    mod, p1, p2, interaction, _ = data\n",
    "                    A1 = np.load(\n",
    "                        prot_data[prot_data['protein'] == p1].iloc[0]['adj_path'],\n",
    "                        allow_pickle=True\n",
    "                    )\n",
    "                    A2 = np.load(\n",
    "                        prot_data[prot_data['protein'] == p2].iloc[0]['adj_path'],\n",
    "                        allow_pickle=True\n",
    "                    )\n",
    "                    P1 = np.load(\n",
    "                        prot_data[prot_data['protein'] == p1].iloc[0]['fp_path'],\n",
    "                        allow_pickle=True\n",
    "                    )\n",
    "                    P2 = np.load(\n",
    "                        prot_data[prot_data['protein'] == p2].iloc[0]['fp_path'],\n",
    "                        allow_pickle=True\n",
    "                    )\n",
    "                    mod_fp = np.load(\n",
    "                        mod_data[mod_data['inchikey'] == mod].iloc[0]['fp_path'],\n",
    "                        allow_pickle=True\n",
    "                    )\n",
    "                    mod_adj = np.load(\n",
    "                        mod_data[mod_data['inchikey'] == mod].iloc[0]['adj_path'],\n",
    "                        allow_pickle=True\n",
    "                    )\n",
    "                    smiles = mod_data[mod_data['inchikey'] == mod].iloc[0]['smiles']\n",
    "                except Exception as e:\n",
    "                    # print(f\"failed for {mod}, {p1}, and {p2}: {e}\")\n",
    "                    continue\n",
    "\n",
    "                proteins1.append(torch.LongTensor(P1.astype(np.float32)))\n",
    "                proteins2.append(torch.LongTensor(P2.astype(np.float32)))\n",
    "                adjacencies1.append(torch.FloatTensor(A1.astype(np.float32)))\n",
    "                adjacencies2.append(torch.FloatTensor(A2.astype(np.float32)))\n",
    "                mod_fps.append(torch.LongTensor(mod_fp.astype(np.float32)))\n",
    "                mod_adjs.append(torch.FloatTensor(mod_adj.astype(np.float32)))\n",
    "                smiles_list.append(smiles)\n",
    "                interactions.append(torch.LongTensor([interaction.astype(int)]))\n",
    "\n",
    "            if len(proteins1) == 0:\n",
    "                continue\n",
    "\n",
    "            proteins1 = [p.to(device) for p in proteins1]\n",
    "            proteins2 = [p.to(device) for p in proteins2]\n",
    "            adjacencies1 = [a.to(device) for a in adjacencies1]\n",
    "            adjacencies2 = [a.to(device) for a in adjacencies2]\n",
    "            mod_fps = [m.to(device) for m in mod_fps]\n",
    "            mod_adjs = [m.to(device) for m in mod_adjs]\n",
    "            interactions = torch.cat(interactions).to(device)\n",
    "\n",
    "            comb = (mod_fps, mod_adjs, proteins1, adjacencies1, proteins2, adjacencies2, smiles_list, interactions)\n",
    "            with torch.no_grad():\n",
    "                z, _, _, _ = self.model(comb, train=False)\n",
    "            z_list.extend(z)\n",
    "            t_list.extend(interactions)\n",
    "\n",
    "        score_list, label_list = [], []\n",
    "        for z in z_list:\n",
    "            score_list.append(z[1].item())\n",
    "            label_list.append(torch.argmax(torch.FloatTensor(z)).item())\n",
    "\n",
    "        labels = np.array(label_list)\n",
    "        y_true = np.array([t.item() for t in t_list])\n",
    "        y_pred = np.array(score_list)\n",
    "\n",
    "        (\n",
    "            tp,\n",
    "            fp,\n",
    "            tn,\n",
    "            fn,\n",
    "            accuracy,\n",
    "            precision,\n",
    "            sensitivity,\n",
    "            recall,\n",
    "            specificity,\n",
    "            MCC,\n",
    "            F1_score,\n",
    "            Q9,\n",
    "            ppv,\n",
    "            npv,\n",
    "        ) = self.calculate_performace(len(sampling), labels, y_true)\n",
    "        roc_auc_val = roc_auc_score(y_true, y_pred)\n",
    "        fpr, tpr, thresholds = roc_curve(y_true, y_pred)\n",
    "        auc_val = auc(fpr, tpr)\n",
    "\n",
    "        # Log results to wandb\n",
    "        # if self.use_wandb:\n",
    "        #     wandb.log({\n",
    "        #         \"Epoch\": epoch,\n",
    "        #         \"Accuracy\": accuracy,\n",
    "        #         \"Precision\": precision,\n",
    "        #         \"Recall\": recall,\n",
    "        #         \"Sensitivity\": sensitivity,\n",
    "        #         \"Specificity\": specificity,\n",
    "        #         \"MCC\": MCC,\n",
    "        #         \"F1 Score\": F1_score,\n",
    "        #         \"ROC AUC\": roc_auc_val,\n",
    "        #         \"AUC\": auc_val,\n",
    "        #         \"TP\": tp,\n",
    "        #         \"FP\": fp,\n",
    "        #         \"TN\": tn,\n",
    "        #         \"FN\": fn,\n",
    "        #         \"PPV\": ppv,\n",
    "        #         \"NPV\": npv,\n",
    "        #     })\n",
    "\n",
    "        return (\n",
    "            accuracy,\n",
    "            precision,\n",
    "            recall,\n",
    "            sensitivity,\n",
    "            specificity,\n",
    "            MCC,\n",
    "            F1_score,\n",
    "            roc_auc_val,\n",
    "            auc_val,\n",
    "            Q9,\n",
    "            ppv,\n",
    "            npv,\n",
    "            tp,\n",
    "            fp,\n",
    "            tn,\n",
    "            fn,\n",
    "        )\n",
    "\n",
    "    def result(\n",
    "        self,\n",
    "        epoch,\n",
    "        time,\n",
    "        loss,\n",
    "        accuracy,\n",
    "        precision,\n",
    "        recall,\n",
    "        sensitivity,\n",
    "        specificity,\n",
    "        MCC,\n",
    "        F1_score,\n",
    "        roc_auc_val,\n",
    "        auc_val,\n",
    "        Q9,\n",
    "        ppv,\n",
    "        npv,\n",
    "        tp,\n",
    "        fp,\n",
    "        tn,\n",
    "        fn,\n",
    "        file_name,\n",
    "    ):\n",
    "        import os\n",
    "\n",
    "        # Ensure the directory exists\n",
    "        os.makedirs(os.path.dirname(file_name), exist_ok=True)\n",
    "\n",
    "        # Open the file in append mode, creating it if it doesn't exist\n",
    "        with open(file_name, \"a+\") as f:\n",
    "            result = map(\n",
    "                str,\n",
    "                [\n",
    "                    epoch,\n",
    "                    time,\n",
    "                    loss,\n",
    "                    accuracy,\n",
    "                    precision,\n",
    "                    recall,\n",
    "                    sensitivity,\n",
    "                    specificity,\n",
    "                    MCC,\n",
    "                    F1_score,\n",
    "                    roc_auc_val,\n",
    "                    auc_val,\n",
    "                    Q9,\n",
    "                    ppv,\n",
    "                    npv,\n",
    "                    tp,\n",
    "                    fp,\n",
    "                    tn,\n",
    "                    fn,\n",
    "                ],\n",
    "            )\n",
    "            f.write(\"\\t\".join(result) + \"\\n\")\n",
    "\n",
    "    def calculate_performace(self, test_num, pred_y, labels):\n",
    "        tp = 0\n",
    "        fp = 0\n",
    "        tn = 0\n",
    "        fn = 0\n",
    "        test_num = len(pred_y)\n",
    "        for index in range(test_num):\n",
    "            if labels[index] == 1:\n",
    "                if labels[index] == pred_y[index]:\n",
    "                    tp = tp + 1\n",
    "                else:\n",
    "                    fn = fn + 1\n",
    "            else:\n",
    "                if labels[index] == pred_y[index]:\n",
    "                    tn = tn + 1\n",
    "                else:\n",
    "                    fp = fp + 1\n",
    "\n",
    "        if (tp + fn) == 0:\n",
    "            q9 = float(tn - fp) / (tn + fp + 1e-06)\n",
    "        if (tn + fp) == 0:\n",
    "            q9 = float(tp - fn) / (tp + fn + 1e-06)\n",
    "        if (tp + fn) != 0 and (tn + fp) != 0:\n",
    "            q9 = 1 - float(np.sqrt(2)) * np.sqrt(float(fn * fn) / ((tp + fn) * (tp + fn)) + float(fp * fp) / ((tn + fp) * (tn + fp)))\n",
    "\n",
    "        Q9 = (float)(1 + q9) / 2\n",
    "        accuracy = float(tp + tn) / test_num\n",
    "        precision = float(tp) / (tp + fp + 1e-06)\n",
    "        sensitivity = float(tp) / (tp + fn + 1e-06)\n",
    "        recall = float(tp) / (tp + fn + 1e-06)\n",
    "        specificity = float(tn) / (tn + fp + 1e-06)\n",
    "        ppv = float(tp) / (tp + fp + 1e-06)\n",
    "        npv = float(tn) / (tn + fn + 1e-06)\n",
    "        F1_score = float(2 * tp) / (2 * tp + fp + fn + 1e-06)\n",
    "        MCC = float(tp * tn - fp * fn) / (np.sqrt((tp + fp) * (tp + fn) * (tn + fp) * (tn + fn)))\n",
    "\n",
    "        return tp, fp, tn, fn, accuracy, precision, sensitivity, recall, specificity, MCC, F1_score, Q9, ppv, npv\n",
    "\n",
    "    def save_model(self, model, file_name):\n",
    "        torch.save(model.state_dict(), file_name)"
   ]
  },
  {
   "cell_type": "code",
   "execution_count": 4,
   "metadata": {},
   "outputs": [
    {
     "name": "stdout",
     "output_type": "stream",
     "text": [
      "tensor([0.1000, 0.2000]) tensor(1)\n"
     ]
    }
   ],
   "source": [
    "z = torch.FloatTensor(np.array([0.1, 0.2], dtype=np.float32))\n",
    "print(z, torch.argmax(z,dim=0))"
   ]
  },
  {
   "cell_type": "code",
   "execution_count": 5,
   "metadata": {},
   "outputs": [],
   "source": [
    "\n",
    "# get data\n",
    "prot_data = pd.read_csv(\"prot_data.csv\")\n",
    "mod_data = pd.read_csv(\"mod_data.csv\")\n",
    "train_data = pd.read_csv(\"interaction_data.csv\")\n",
    "examples = np.array(train_data.values.tolist())\n",
    "# examples = np.array(random.choices(examples_all, k=500))\n",
    "\n",
    "# setup folders\n",
    "prot_fp_folder = \"protein_fingerprints\"\n",
    "mod_fp_folder = \"mod_fingerprints\"\n",
    "prot_fp_dict = np.load(\"protein_fingerprints/prot_fingerprint_dict.pickle\",allow_pickle=True)\n",
    "mod_fp_dict = np.load(\"mod_fingerprints/mod_fingerprint_dict.pickle\",allow_pickle=True)\n",
    "\n",
    "\n",
    "n_fingerprint = len(prot_fp_dict) + 100\n",
    "nmod_fingerprint = len(mod_fp_dict) + 100\n",
    "\n",
    "\n",
    "### Hyperparameters ###\n",
    "\n",
    "radius         = 1\n",
    "dim        = 20\n",
    "layer_gnn      = 2\n",
    "lr             = 1e-4\n",
    "lr_decay       = 0.5\n",
    "decay_interval = 10\n",
    "iteration      = 30\n",
    "\n",
    "import wandb\n",
    "import timeit\n",
    "import torch\n",
    "\n",
    "fold_count = 1\n",
    "### Check if GPU is available ###\n",
    "if torch.cuda.is_available():\n",
    "    device = torch.device('cuda')\n",
    "else:\n",
    "    device = torch.device('cpu')\n",
    "\n",
    "### Define k-folds ###\n",
    "num_kfolds = 5\n",
    "kfold      = KFold(n_splits=num_kfolds, shuffle=True, random_state=1)  # Updated\n"
   ]
  },
  {
   "cell_type": "code",
   "execution_count": 6,
   "metadata": {},
   "outputs": [
    {
     "name": "stderr",
     "output_type": "stream",
     "text": [
      "Failed to detect the name of this notebook, you can set it manually with the WANDB_NOTEBOOK_NAME environment variable to enable code saving.\n",
      "\u001b[34m\u001b[1mwandb\u001b[0m: Currently logged in as: \u001b[33mspycoderyt\u001b[0m. Use \u001b[1m`wandb login --relogin`\u001b[0m to force relogin\n"
     ]
    },
    {
     "data": {
      "text/html": [
       "Tracking run with wandb version 0.17.8"
      ],
      "text/plain": [
       "<IPython.core.display.HTML object>"
      ]
     },
     "metadata": {},
     "output_type": "display_data"
    },
    {
     "data": {
      "text/html": [
       "Run data is saved locally in <code>/Users/gino/promisegat4/wandb/run-20240902_213352-zevc9qro</code>"
      ],
      "text/plain": [
       "<IPython.core.display.HTML object>"
      ]
     },
     "metadata": {},
     "output_type": "display_data"
    },
    {
     "data": {
      "text/html": [
       "Syncing run <strong><a href='https://wandb.ai/spycoderyt/promisegat4/runs/zevc9qro' target=\"_blank\">zesty-oath-33</a></strong> to <a href='https://wandb.ai/spycoderyt/promisegat4' target=\"_blank\">Weights & Biases</a> (<a href='https://wandb.me/run' target=\"_blank\">docs</a>)<br/>"
      ],
      "text/plain": [
       "<IPython.core.display.HTML object>"
      ]
     },
     "metadata": {},
     "output_type": "display_data"
    },
    {
     "data": {
      "text/html": [
       " View project at <a href='https://wandb.ai/spycoderyt/promisegat4' target=\"_blank\">https://wandb.ai/spycoderyt/promisegat4</a>"
      ],
      "text/plain": [
       "<IPython.core.display.HTML object>"
      ]
     },
     "metadata": {},
     "output_type": "display_data"
    },
    {
     "data": {
      "text/html": [
       " View run at <a href='https://wandb.ai/spycoderyt/promisegat4/runs/zevc9qro' target=\"_blank\">https://wandb.ai/spycoderyt/promisegat4/runs/zevc9qro</a>"
      ],
      "text/plain": [
       "<IPython.core.display.HTML object>"
      ]
     },
     "metadata": {},
     "output_type": "display_data"
    },
    {
     "name": "stderr",
     "output_type": "stream",
     "text": [
      "100%|██████████| 1/1 [00:00<00:00,  1.07it/s]\n"
     ]
    },
    {
     "name": "stdout",
     "output_type": "stream",
     "text": [
      "finished with loss 0.2495382030804952\n"
     ]
    },
    {
     "name": "stderr",
     "output_type": "stream",
     "text": [
      "100%|██████████| 100/100 [00:37<00:00,  2.70it/s]\n",
      "/var/folders/d3/q38hjcyx7tj50fgmqb4mcm8r0000gn/T/ipykernel_55766/1284111422.py:231: RuntimeWarning: invalid value encountered in scalar divide\n",
      "  MCC = float(tp * tn - fp * fn) / (np.sqrt((tp + fp) * (tp + fn) * (tn + fp) * (tn + fn)))\n"
     ]
    },
    {
     "name": "stdout",
     "output_type": "stream",
     "text": [
      "Epoch: 0\n",
      "Accuracy: 0.37681159420289856\n",
      "Precision: 0.37681159378281875\n",
      "Recall: 0.9999999970414202\n",
      "Sensitivity: 0.9999999970414202\n",
      "Specificity: 0.0\n",
      "MCC: nan\n",
      "F1-score: 0.5473684206094183\n",
      "ROC-AUC: 0.5069598077716971\n",
      "AUC: 0.5069598077716971\n",
      "Q9: 0.2928932188134524\n",
      "PPV: 0.37681159378281875\n",
      "NPV: 0.0\n",
      "TP: 338\n",
      "FP: 559\n",
      "TN: 0\n",
      "FN: 0\n",
      "\n",
      "\n"
     ]
    },
    {
     "name": "stderr",
     "output_type": "stream",
     "text": [
      "100%|██████████| 1/1 [00:00<00:00, 12.79it/s]\n"
     ]
    },
    {
     "name": "stdout",
     "output_type": "stream",
     "text": [
      "finished with loss 0.24974220991134644\n"
     ]
    },
    {
     "name": "stderr",
     "output_type": "stream",
     "text": [
      "100%|██████████| 100/100 [00:42<00:00,  2.34it/s]\n",
      "/var/folders/d3/q38hjcyx7tj50fgmqb4mcm8r0000gn/T/ipykernel_55766/1284111422.py:231: RuntimeWarning: invalid value encountered in scalar divide\n",
      "  MCC = float(tp * tn - fp * fn) / (np.sqrt((tp + fp) * (tp + fn) * (tn + fp) * (tn + fn)))\n"
     ]
    },
    {
     "name": "stdout",
     "output_type": "stream",
     "text": [
      "Epoch: 1\n",
      "Accuracy: 0.38290788013318533\n",
      "Precision: 0.38290787970820434\n",
      "Recall: 0.9999999971014493\n",
      "Sensitivity: 0.9999999971014493\n",
      "Specificity: 0.0\n",
      "MCC: nan\n",
      "F1-score: 0.5537720701815633\n",
      "ROC-AUC: 0.5170420185590658\n",
      "AUC: 0.5170420185590658\n",
      "Q9: 0.2928932188134524\n",
      "PPV: 0.38290787970820434\n",
      "NPV: 0.0\n",
      "TP: 345\n",
      "FP: 556\n",
      "TN: 0\n",
      "FN: 0\n",
      "\n",
      "\n"
     ]
    },
    {
     "name": "stderr",
     "output_type": "stream",
     "text": [
      "100%|██████████| 1/1 [00:00<00:00, 11.98it/s]\n"
     ]
    },
    {
     "name": "stdout",
     "output_type": "stream",
     "text": [
      "finished with loss 0.2336349089940389\n"
     ]
    },
    {
     "name": "stderr",
     "output_type": "stream",
     "text": [
      "100%|██████████| 100/100 [00:38<00:00,  2.61it/s]\n",
      "/var/folders/d3/q38hjcyx7tj50fgmqb4mcm8r0000gn/T/ipykernel_55766/1284111422.py:231: RuntimeWarning: invalid value encountered in scalar divide\n",
      "  MCC = float(tp * tn - fp * fn) / (np.sqrt((tp + fp) * (tp + fn) * (tn + fp) * (tn + fn)))\n"
     ]
    },
    {
     "name": "stdout",
     "output_type": "stream",
     "text": [
      "Epoch: 2\n",
      "Accuracy: 0.39635535307517084\n",
      "Precision: 0.39635535262374105\n",
      "Recall: 0.9999999971264368\n",
      "Sensitivity: 0.9999999971264368\n",
      "Specificity: 0.0\n",
      "MCC: nan\n",
      "F1-score: 0.5676998364048125\n",
      "ROC-AUC: 0.48282097158967685\n",
      "AUC: 0.48282097158967685\n",
      "Q9: 0.2928932188134524\n",
      "PPV: 0.39635535262374105\n",
      "NPV: 0.0\n",
      "TP: 348\n",
      "FP: 530\n",
      "TN: 0\n",
      "FN: 0\n",
      "\n",
      "\n"
     ]
    },
    {
     "name": "stderr",
     "output_type": "stream",
     "text": [
      "100%|██████████| 1/1 [00:00<00:00, 15.67it/s]\n"
     ]
    },
    {
     "name": "stdout",
     "output_type": "stream",
     "text": [
      "finished with loss 0.24957990646362305\n"
     ]
    },
    {
     "name": "stderr",
     "output_type": "stream",
     "text": [
      "100%|██████████| 100/100 [00:41<00:00,  2.42it/s]\n",
      "/var/folders/d3/q38hjcyx7tj50fgmqb4mcm8r0000gn/T/ipykernel_55766/1284111422.py:231: RuntimeWarning: invalid value encountered in scalar divide\n",
      "  MCC = float(tp * tn - fp * fn) / (np.sqrt((tp + fp) * (tp + fn) * (tn + fp) * (tn + fn)))\n"
     ]
    },
    {
     "name": "stdout",
     "output_type": "stream",
     "text": [
      "Epoch: 3\n",
      "Accuracy: 0.4306987399770905\n",
      "Precision: 0.4306987394837357\n",
      "Recall: 0.9999999973404256\n",
      "Sensitivity: 0.9999999973404256\n",
      "Specificity: 0.0\n",
      "MCC: nan\n",
      "F1-score: 0.6020816648502147\n",
      "ROC-AUC: 0.48505929192174324\n",
      "AUC: 0.48505929192174324\n",
      "Q9: 0.2928932188134524\n",
      "PPV: 0.4306987394837357\n",
      "NPV: 0.0\n",
      "TP: 376\n",
      "FP: 497\n",
      "TN: 0\n",
      "FN: 0\n",
      "\n",
      "\n"
     ]
    },
    {
     "name": "stderr",
     "output_type": "stream",
     "text": [
      "100%|██████████| 1/1 [00:00<00:00, 109.53it/s]\n"
     ]
    },
    {
     "name": "stdout",
     "output_type": "stream",
     "text": [
      "finished with loss 0.0\n"
     ]
    },
    {
     "name": "stderr",
     "output_type": "stream",
     "text": [
      "100%|██████████| 100/100 [00:40<00:00,  2.47it/s]\n",
      "/var/folders/d3/q38hjcyx7tj50fgmqb4mcm8r0000gn/T/ipykernel_55766/1284111422.py:231: RuntimeWarning: invalid value encountered in scalar divide\n",
      "  MCC = float(tp * tn - fp * fn) / (np.sqrt((tp + fp) * (tp + fn) * (tn + fp) * (tn + fn)))\n"
     ]
    },
    {
     "name": "stdout",
     "output_type": "stream",
     "text": [
      "Epoch: 4\n",
      "Accuracy: 0.43050847457627117\n",
      "Precision: 0.43050847408982096\n",
      "Recall: 0.9999999973753281\n",
      "Sensitivity: 0.9999999973753281\n",
      "Specificity: 0.0\n",
      "MCC: nan\n",
      "F1-score: 0.6018957341217253\n",
      "ROC-AUC: 0.5031011748531433\n",
      "AUC: 0.5031011748531433\n",
      "Q9: 0.2928932188134524\n",
      "PPV: 0.43050847408982096\n",
      "NPV: 0.0\n",
      "TP: 381\n",
      "FP: 504\n",
      "TN: 0\n",
      "FN: 0\n",
      "\n",
      "\n"
     ]
    },
    {
     "name": "stderr",
     "output_type": "stream",
     "text": [
      "100%|██████████| 1/1 [00:00<00:00,  8.47it/s]\n"
     ]
    },
    {
     "name": "stdout",
     "output_type": "stream",
     "text": [
      "finished with loss 0.27873001495997113\n"
     ]
    },
    {
     "name": "stderr",
     "output_type": "stream",
     "text": [
      "100%|██████████| 100/100 [00:43<00:00,  2.32it/s]\n",
      "/var/folders/d3/q38hjcyx7tj50fgmqb4mcm8r0000gn/T/ipykernel_55766/1284111422.py:231: RuntimeWarning: invalid value encountered in scalar divide\n",
      "  MCC = float(tp * tn - fp * fn) / (np.sqrt((tp + fp) * (tp + fn) * (tn + fp) * (tn + fn)))\n"
     ]
    },
    {
     "name": "stdout",
     "output_type": "stream",
     "text": [
      "Epoch: 5\n",
      "Accuracy: 0.4050925925925926\n",
      "Precision: 0.40509259212373544\n",
      "Recall: 0.9999999971428571\n",
      "Sensitivity: 0.9999999971428571\n",
      "Specificity: 0.0\n",
      "MCC: nan\n",
      "F1-score: 0.5766062598215763\n",
      "ROC-AUC: 0.48178432462479154\n",
      "AUC: 0.48178432462479154\n",
      "Q9: 0.2928932188134524\n",
      "PPV: 0.40509259212373544\n",
      "NPV: 0.0\n",
      "TP: 350\n",
      "FP: 514\n",
      "TN: 0\n",
      "FN: 0\n",
      "\n",
      "\n"
     ]
    },
    {
     "name": "stderr",
     "output_type": "stream",
     "text": [
      "100%|██████████| 1/1 [00:00<00:00,  3.25it/s]\n"
     ]
    },
    {
     "name": "stdout",
     "output_type": "stream",
     "text": [
      "finished with loss 0.2194797396659851\n"
     ]
    },
    {
     "name": "stderr",
     "output_type": "stream",
     "text": [
      "100%|██████████| 100/100 [00:42<00:00,  2.36it/s]\n",
      "/var/folders/d3/q38hjcyx7tj50fgmqb4mcm8r0000gn/T/ipykernel_55766/1284111422.py:231: RuntimeWarning: invalid value encountered in scalar divide\n",
      "  MCC = float(tp * tn - fp * fn) / (np.sqrt((tp + fp) * (tp + fn) * (tn + fp) * (tn + fn)))\n"
     ]
    },
    {
     "name": "stdout",
     "output_type": "stream",
     "text": [
      "Epoch: 6\n",
      "Accuracy: 0.39862542955326463\n",
      "Precision: 0.398625429096649\n",
      "Recall: 0.9999999971264368\n",
      "Sensitivity: 0.9999999971264368\n",
      "Specificity: 0.0\n",
      "MCC: nan\n",
      "F1-score: 0.5700245695577194\n",
      "ROC-AUC: 0.5131390257252326\n",
      "AUC: 0.5131390257252326\n",
      "Q9: 0.2928932188134524\n",
      "PPV: 0.398625429096649\n",
      "NPV: 0.0\n",
      "TP: 348\n",
      "FP: 525\n",
      "TN: 0\n",
      "FN: 0\n",
      "\n",
      "\n"
     ]
    },
    {
     "name": "stderr",
     "output_type": "stream",
     "text": [
      "100%|██████████| 1/1 [00:00<00:00,  5.91it/s]\n"
     ]
    },
    {
     "name": "stdout",
     "output_type": "stream",
     "text": [
      "finished with loss 0.21949521700541177\n"
     ]
    },
    {
     "name": "stderr",
     "output_type": "stream",
     "text": [
      "100%|██████████| 100/100 [00:40<00:00,  2.47it/s]\n",
      "/var/folders/d3/q38hjcyx7tj50fgmqb4mcm8r0000gn/T/ipykernel_55766/1284111422.py:231: RuntimeWarning: invalid value encountered in scalar divide\n",
      "  MCC = float(tp * tn - fp * fn) / (np.sqrt((tp + fp) * (tp + fn) * (tn + fp) * (tn + fn)))\n"
     ]
    },
    {
     "name": "stdout",
     "output_type": "stream",
     "text": [
      "Epoch: 7\n",
      "Accuracy: 0.41284403669724773\n",
      "Precision: 0.4128440362238027\n",
      "Recall: 0.9999999972222222\n",
      "Sensitivity: 0.9999999972222222\n",
      "Specificity: 0.0\n",
      "MCC: nan\n",
      "F1-score: 0.5844155839412211\n",
      "ROC-AUC: 0.49637858072916663\n",
      "AUC: 0.49637858072916663\n",
      "Q9: 0.2928932188134524\n",
      "PPV: 0.4128440362238027\n",
      "NPV: 0.0\n",
      "TP: 360\n",
      "FP: 512\n",
      "TN: 0\n",
      "FN: 0\n",
      "\n",
      "\n"
     ]
    },
    {
     "name": "stderr",
     "output_type": "stream",
     "text": [
      "100%|██████████| 1/1 [00:00<00:00, 10.70it/s]\n"
     ]
    },
    {
     "name": "stdout",
     "output_type": "stream",
     "text": [
      "finished with loss 0.23358444372812906\n"
     ]
    },
    {
     "name": "stderr",
     "output_type": "stream",
     "text": [
      "100%|██████████| 100/100 [00:38<00:00,  2.57it/s]\n",
      "/var/folders/d3/q38hjcyx7tj50fgmqb4mcm8r0000gn/T/ipykernel_55766/1284111422.py:231: RuntimeWarning: invalid value encountered in scalar divide\n",
      "  MCC = float(tp * tn - fp * fn) / (np.sqrt((tp + fp) * (tp + fn) * (tn + fp) * (tn + fn)))\n"
     ]
    },
    {
     "name": "stdout",
     "output_type": "stream",
     "text": [
      "Epoch: 8\n",
      "Accuracy: 0.4074492099322799\n",
      "Precision: 0.407449209472405\n",
      "Recall: 0.999999997229917\n",
      "Sensitivity: 0.999999997229917\n",
      "Specificity: 0.0\n",
      "MCC: nan\n",
      "F1-score: 0.5789895745156458\n",
      "ROC-AUC: 0.5086162775359451\n",
      "AUC: 0.5086162775359451\n",
      "Q9: 0.2928932188134524\n",
      "PPV: 0.407449209472405\n",
      "NPV: 0.0\n",
      "TP: 361\n",
      "FP: 525\n",
      "TN: 0\n",
      "FN: 0\n",
      "\n",
      "\n"
     ]
    },
    {
     "name": "stderr",
     "output_type": "stream",
     "text": [
      "100%|██████████| 1/1 [00:00<00:00, 15.90it/s]\n"
     ]
    },
    {
     "name": "stdout",
     "output_type": "stream",
     "text": [
      "finished with loss 0.23385345935821533\n"
     ]
    },
    {
     "name": "stderr",
     "output_type": "stream",
     "text": [
      "100%|██████████| 100/100 [00:40<00:00,  2.46it/s]\n",
      "/var/folders/d3/q38hjcyx7tj50fgmqb4mcm8r0000gn/T/ipykernel_55766/1284111422.py:231: RuntimeWarning: invalid value encountered in scalar divide\n",
      "  MCC = float(tp * tn - fp * fn) / (np.sqrt((tp + fp) * (tp + fn) * (tn + fp) * (tn + fn)))\n"
     ]
    },
    {
     "name": "stdout",
     "output_type": "stream",
     "text": [
      "Epoch: 9\n",
      "Accuracy: 0.3939732142857143\n",
      "Precision: 0.393973213846012\n",
      "Recall: 0.9999999971671388\n",
      "Sensitivity: 0.9999999971671388\n",
      "Specificity: 0.0\n",
      "MCC: nan\n",
      "F1-score: 0.5652522013088452\n",
      "ROC-AUC: 0.5416973168683059\n",
      "AUC: 0.5416973168683059\n",
      "Q9: 0.2928932188134524\n",
      "PPV: 0.393973213846012\n",
      "NPV: 0.0\n",
      "TP: 353\n",
      "FP: 543\n",
      "TN: 0\n",
      "FN: 0\n",
      "\n",
      "\n"
     ]
    },
    {
     "name": "stderr",
     "output_type": "stream",
     "text": [
      "100%|██████████| 1/1 [00:00<00:00,  6.18it/s]\n"
     ]
    },
    {
     "name": "stdout",
     "output_type": "stream",
     "text": [
      "finished with loss 0.2482813000679016\n"
     ]
    },
    {
     "name": "stderr",
     "output_type": "stream",
     "text": [
      "100%|██████████| 100/100 [00:42<00:00,  2.36it/s]\n",
      "/var/folders/d3/q38hjcyx7tj50fgmqb4mcm8r0000gn/T/ipykernel_55766/1284111422.py:231: RuntimeWarning: invalid value encountered in scalar divide\n",
      "  MCC = float(tp * tn - fp * fn) / (np.sqrt((tp + fp) * (tp + fn) * (tn + fp) * (tn + fn)))\n"
     ]
    },
    {
     "name": "stdout",
     "output_type": "stream",
     "text": [
      "Epoch: 10\n",
      "Accuracy: 0.4042316258351893\n",
      "Precision: 0.40423162538504276\n",
      "Recall: 0.9999999972451791\n",
      "Sensitivity: 0.9999999972451791\n",
      "Specificity: 0.0\n",
      "MCC: nan\n",
      "F1-score: 0.5757335443491407\n",
      "ROC-AUC: 0.48401946396848694\n",
      "AUC: 0.48401946396848694\n",
      "Q9: 0.2928932188134524\n",
      "PPV: 0.40423162538504276\n",
      "NPV: 0.0\n",
      "TP: 363\n",
      "FP: 535\n",
      "TN: 0\n",
      "FN: 0\n",
      "\n",
      "\n"
     ]
    },
    {
     "name": "stderr",
     "output_type": "stream",
     "text": [
      "100%|██████████| 1/1 [00:00<00:00, 15.53it/s]\n"
     ]
    },
    {
     "name": "stdout",
     "output_type": "stream",
     "text": [
      "finished with loss 0.27769263585408527\n"
     ]
    },
    {
     "name": "stderr",
     "output_type": "stream",
     "text": [
      "100%|██████████| 100/100 [00:38<00:00,  2.62it/s]\n",
      "/var/folders/d3/q38hjcyx7tj50fgmqb4mcm8r0000gn/T/ipykernel_55766/1284111422.py:231: RuntimeWarning: invalid value encountered in scalar divide\n",
      "  MCC = float(tp * tn - fp * fn) / (np.sqrt((tp + fp) * (tp + fn) * (tn + fp) * (tn + fn)))\n"
     ]
    },
    {
     "name": "stdout",
     "output_type": "stream",
     "text": [
      "Epoch: 11\n",
      "Accuracy: 0.41336353340883353\n",
      "Precision: 0.41336353294069816\n",
      "Recall: 0.999999997260274\n",
      "Sensitivity: 0.999999997260274\n",
      "Specificity: 0.0\n",
      "MCC: nan\n",
      "F1-score: 0.5849358969671987\n",
      "ROC-AUC: 0.5208758660813455\n",
      "AUC: 0.5208758660813455\n",
      "Q9: 0.2928932188134524\n",
      "PPV: 0.41336353294069816\n",
      "NPV: 0.0\n",
      "TP: 365\n",
      "FP: 518\n",
      "TN: 0\n",
      "FN: 0\n",
      "\n",
      "\n"
     ]
    },
    {
     "name": "stderr",
     "output_type": "stream",
     "text": [
      "100%|██████████| 1/1 [00:00<00:00, 15.29it/s]\n"
     ]
    },
    {
     "name": "stdout",
     "output_type": "stream",
     "text": [
      "finished with loss 0.2487845222155253\n"
     ]
    },
    {
     "name": "stderr",
     "output_type": "stream",
     "text": [
      "100%|██████████| 100/100 [00:38<00:00,  2.57it/s]\n",
      "/var/folders/d3/q38hjcyx7tj50fgmqb4mcm8r0000gn/T/ipykernel_55766/1284111422.py:231: RuntimeWarning: invalid value encountered in scalar divide\n",
      "  MCC = float(tp * tn - fp * fn) / (np.sqrt((tp + fp) * (tp + fn) * (tn + fp) * (tn + fn)))\n"
     ]
    },
    {
     "name": "stdout",
     "output_type": "stream",
     "text": [
      "Epoch: 12\n",
      "Accuracy: 0.401123595505618\n",
      "Precision: 0.4011235950549173\n",
      "Recall: 0.9999999971988796\n",
      "Sensitivity: 0.9999999971988796\n",
      "Specificity: 0.0\n",
      "MCC: nan\n",
      "F1-score: 0.572574177568104\n",
      "ROC-AUC: 0.47542581760659236\n",
      "AUC: 0.47542581760659236\n",
      "Q9: 0.2928932188134524\n",
      "PPV: 0.4011235950549173\n",
      "NPV: 0.0\n",
      "TP: 357\n",
      "FP: 533\n",
      "TN: 0\n",
      "FN: 0\n",
      "\n",
      "\n"
     ]
    },
    {
     "name": "stderr",
     "output_type": "stream",
     "text": [
      "100%|██████████| 1/1 [00:00<00:00,  1.91it/s]\n"
     ]
    },
    {
     "name": "stdout",
     "output_type": "stream",
     "text": [
      "finished with loss 0.2778410116831462\n"
     ]
    },
    {
     "name": "stderr",
     "output_type": "stream",
     "text": [
      "100%|██████████| 100/100 [00:41<00:00,  2.39it/s]\n",
      "/var/folders/d3/q38hjcyx7tj50fgmqb4mcm8r0000gn/T/ipykernel_55766/1284111422.py:231: RuntimeWarning: invalid value encountered in scalar divide\n",
      "  MCC = float(tp * tn - fp * fn) / (np.sqrt((tp + fp) * (tp + fn) * (tn + fp) * (tn + fn)))\n"
     ]
    },
    {
     "name": "stdout",
     "output_type": "stream",
     "text": [
      "Epoch: 13\n",
      "Accuracy: 0.3866213151927438\n",
      "Precision: 0.3866213147543976\n",
      "Recall: 0.9999999970674487\n",
      "Sensitivity: 0.9999999970674487\n",
      "Specificity: 0.0\n",
      "MCC: nan\n",
      "F1-score: 0.5576451344581805\n",
      "ROC-AUC: 0.49086626807096667\n",
      "AUC: 0.49086626807096667\n",
      "Q9: 0.2928932188134524\n",
      "PPV: 0.3866213147543976\n",
      "NPV: 0.0\n",
      "TP: 341\n",
      "FP: 541\n",
      "TN: 0\n",
      "FN: 0\n",
      "\n",
      "\n"
     ]
    },
    {
     "name": "stderr",
     "output_type": "stream",
     "text": [
      "100%|██████████| 1/1 [00:00<00:00,  3.75it/s]\n"
     ]
    },
    {
     "name": "stdout",
     "output_type": "stream",
     "text": [
      "finished with loss 0.24835588534673056\n"
     ]
    },
    {
     "name": "stderr",
     "output_type": "stream",
     "text": [
      "100%|██████████| 100/100 [00:43<00:00,  2.28it/s]\n",
      "/var/folders/d3/q38hjcyx7tj50fgmqb4mcm8r0000gn/T/ipykernel_55766/1284111422.py:231: RuntimeWarning: invalid value encountered in scalar divide\n",
      "  MCC = float(tp * tn - fp * fn) / (np.sqrt((tp + fp) * (tp + fn) * (tn + fp) * (tn + fn)))\n"
     ]
    },
    {
     "name": "stdout",
     "output_type": "stream",
     "text": [
      "Epoch: 14\n",
      "Accuracy: 0.4127708095781072\n",
      "Precision: 0.4127708091074449\n",
      "Recall: 0.999999997237569\n",
      "Sensitivity: 0.999999997237569\n",
      "Specificity: 0.0\n",
      "MCC: nan\n",
      "F1-score: 0.5843422109892314\n",
      "ROC-AUC: 0.49674140428042696\n",
      "AUC: 0.49674140428042696\n",
      "Q9: 0.2928932188134524\n",
      "PPV: 0.4127708091074449\n",
      "NPV: 0.0\n",
      "TP: 362\n",
      "FP: 515\n",
      "TN: 0\n",
      "FN: 0\n",
      "\n",
      "\n"
     ]
    },
    {
     "name": "stderr",
     "output_type": "stream",
     "text": [
      "100%|██████████| 1/1 [00:00<00:00, 26.89it/s]\n"
     ]
    },
    {
     "name": "stdout",
     "output_type": "stream",
     "text": [
      "finished with loss 0.19060556093851724\n"
     ]
    },
    {
     "name": "stderr",
     "output_type": "stream",
     "text": [
      "100%|██████████| 100/100 [00:41<00:00,  2.43it/s]\n",
      "/var/folders/d3/q38hjcyx7tj50fgmqb4mcm8r0000gn/T/ipykernel_55766/1284111422.py:231: RuntimeWarning: invalid value encountered in scalar divide\n",
      "  MCC = float(tp * tn - fp * fn) / (np.sqrt((tp + fp) * (tp + fn) * (tn + fp) * (tn + fn)))\n"
     ]
    },
    {
     "name": "stdout",
     "output_type": "stream",
     "text": [
      "Epoch: 15\n",
      "Accuracy: 0.4128233970753656\n",
      "Precision: 0.4128233966109973\n",
      "Recall: 0.9999999972752044\n",
      "Sensitivity: 0.9999999972752044\n",
      "Specificity: 0.0\n",
      "MCC: nan\n",
      "F1-score: 0.5843949039933161\n",
      "ROC-AUC: 0.48453861171140133\n",
      "AUC: 0.48453861171140133\n",
      "Q9: 0.2928932188134524\n",
      "PPV: 0.4128233966109973\n",
      "NPV: 0.0\n",
      "TP: 367\n",
      "FP: 522\n",
      "TN: 0\n",
      "FN: 0\n",
      "\n",
      "\n"
     ]
    },
    {
     "name": "stderr",
     "output_type": "stream",
     "text": [
      "100%|██████████| 1/1 [00:00<00:00,  6.44it/s]\n"
     ]
    },
    {
     "name": "stdout",
     "output_type": "stream",
     "text": [
      "finished with loss 0.2197163701057434\n"
     ]
    },
    {
     "name": "stderr",
     "output_type": "stream",
     "text": [
      "100%|██████████| 100/100 [00:39<00:00,  2.52it/s]\n",
      "/var/folders/d3/q38hjcyx7tj50fgmqb4mcm8r0000gn/T/ipykernel_55766/1284111422.py:231: RuntimeWarning: invalid value encountered in scalar divide\n",
      "  MCC = float(tp * tn - fp * fn) / (np.sqrt((tp + fp) * (tp + fn) * (tn + fp) * (tn + fn)))\n"
     ]
    },
    {
     "name": "stdout",
     "output_type": "stream",
     "text": [
      "Epoch: 16\n",
      "Accuracy: 0.37414187643020597\n",
      "Precision: 0.374141876002126\n",
      "Recall: 0.999999996941896\n",
      "Sensitivity: 0.999999996941896\n",
      "Specificity: 0.0\n",
      "MCC: nan\n",
      "F1-score: 0.544546211037014\n",
      "ROC-AUC: 0.46512811051663505\n",
      "AUC: 0.46512811051663505\n",
      "Q9: 0.2928932188134524\n",
      "PPV: 0.374141876002126\n",
      "NPV: 0.0\n",
      "TP: 327\n",
      "FP: 547\n",
      "TN: 0\n",
      "FN: 0\n",
      "\n",
      "\n"
     ]
    },
    {
     "name": "stderr",
     "output_type": "stream",
     "text": [
      "100%|██████████| 1/1 [00:00<00:00, 15.39it/s]\n"
     ]
    },
    {
     "name": "stdout",
     "output_type": "stream",
     "text": [
      "finished with loss 0.27638975779215497\n"
     ]
    },
    {
     "name": "stderr",
     "output_type": "stream",
     "text": [
      "100%|██████████| 100/100 [00:36<00:00,  2.75it/s]\n",
      "/var/folders/d3/q38hjcyx7tj50fgmqb4mcm8r0000gn/T/ipykernel_55766/1284111422.py:231: RuntimeWarning: invalid value encountered in scalar divide\n",
      "  MCC = float(tp * tn - fp * fn) / (np.sqrt((tp + fp) * (tp + fn) * (tn + fp) * (tn + fn)))\n"
     ]
    },
    {
     "name": "stdout",
     "output_type": "stream",
     "text": [
      "Epoch: 17\n",
      "Accuracy: 0.39643652561247217\n",
      "Precision: 0.3964365251710061\n",
      "Recall: 0.9999999971910113\n",
      "Sensitivity: 0.9999999971910113\n",
      "Specificity: 0.0\n",
      "MCC: nan\n",
      "F1-score: 0.5677830936461059\n",
      "ROC-AUC: 0.44365178904598035\n",
      "AUC: 0.44365178904598035\n",
      "Q9: 0.2928932188134524\n",
      "PPV: 0.3964365251710061\n",
      "NPV: 0.0\n",
      "TP: 356\n",
      "FP: 542\n",
      "TN: 0\n",
      "FN: 0\n",
      "\n",
      "\n"
     ]
    },
    {
     "name": "stderr",
     "output_type": "stream",
     "text": [
      "100%|██████████| 1/1 [00:00<00:00, 11.09it/s]\n"
     ]
    },
    {
     "name": "stdout",
     "output_type": "stream",
     "text": [
      "finished with loss 0.2334738572438558\n"
     ]
    },
    {
     "name": "stderr",
     "output_type": "stream",
     "text": [
      "100%|██████████| 100/100 [00:42<00:00,  2.33it/s]\n",
      "/var/folders/d3/q38hjcyx7tj50fgmqb4mcm8r0000gn/T/ipykernel_55766/1284111422.py:231: RuntimeWarning: invalid value encountered in scalar divide\n",
      "  MCC = float(tp * tn - fp * fn) / (np.sqrt((tp + fp) * (tp + fn) * (tn + fp) * (tn + fn)))\n"
     ]
    },
    {
     "name": "stdout",
     "output_type": "stream",
     "text": [
      "Epoch: 18\n",
      "Accuracy: 0.4018058690744921\n",
      "Precision: 0.4018058686209866\n",
      "Recall: 0.9999999971910113\n",
      "Sensitivity: 0.9999999971910113\n",
      "Specificity: 0.0\n",
      "MCC: nan\n",
      "F1-score: 0.5732689206334388\n",
      "ROC-AUC: 0.5083024167903328\n",
      "AUC: 0.5083024167903328\n",
      "Q9: 0.2928932188134524\n",
      "PPV: 0.4018058686209866\n",
      "NPV: 0.0\n",
      "TP: 356\n",
      "FP: 530\n",
      "TN: 0\n",
      "FN: 0\n",
      "\n",
      "\n"
     ]
    },
    {
     "name": "stderr",
     "output_type": "stream",
     "text": [
      "100%|██████████| 1/1 [00:00<00:00,  3.85it/s]\n"
     ]
    },
    {
     "name": "stdout",
     "output_type": "stream",
     "text": [
      "finished with loss 0.27682475248972577\n"
     ]
    },
    {
     "name": "stderr",
     "output_type": "stream",
     "text": [
      "100%|██████████| 100/100 [00:39<00:00,  2.55it/s]\n",
      "/var/folders/d3/q38hjcyx7tj50fgmqb4mcm8r0000gn/T/ipykernel_55766/1284111422.py:231: RuntimeWarning: invalid value encountered in scalar divide\n",
      "  MCC = float(tp * tn - fp * fn) / (np.sqrt((tp + fp) * (tp + fn) * (tn + fp) * (tn + fn)))\n"
     ]
    },
    {
     "name": "stdout",
     "output_type": "stream",
     "text": [
      "Epoch: 19\n",
      "Accuracy: 0.40736478711162255\n",
      "Precision: 0.40736478664284836\n",
      "Recall: 0.9999999971751412\n",
      "Sensitivity: 0.9999999971751412\n",
      "Specificity: 0.0\n",
      "MCC: nan\n",
      "F1-score: 0.5789043331325393\n",
      "ROC-AUC: 0.49783884592178157\n",
      "AUC: 0.49783884592178157\n",
      "Q9: 0.2928932188134524\n",
      "PPV: 0.40736478664284836\n",
      "NPV: 0.0\n",
      "TP: 354\n",
      "FP: 515\n",
      "TN: 0\n",
      "FN: 0\n",
      "\n",
      "\n"
     ]
    },
    {
     "name": "stderr",
     "output_type": "stream",
     "text": [
      "100%|██████████| 1/1 [00:00<00:00,  2.45it/s]\n"
     ]
    },
    {
     "name": "stdout",
     "output_type": "stream",
     "text": [
      "finished with loss 0.27634121974309284\n"
     ]
    },
    {
     "name": "stderr",
     "output_type": "stream",
     "text": [
      "100%|██████████| 100/100 [00:39<00:00,  2.54it/s]\n",
      "/var/folders/d3/q38hjcyx7tj50fgmqb4mcm8r0000gn/T/ipykernel_55766/1284111422.py:231: RuntimeWarning: invalid value encountered in scalar divide\n",
      "  MCC = float(tp * tn - fp * fn) / (np.sqrt((tp + fp) * (tp + fn) * (tn + fp) * (tn + fn)))\n"
     ]
    },
    {
     "name": "stdout",
     "output_type": "stream",
     "text": [
      "Epoch: 20\n",
      "Accuracy: 0.40914285714285714\n",
      "Precision: 0.4091428566752653\n",
      "Recall: 0.999999997206704\n",
      "Sensitivity: 0.999999997206704\n",
      "Specificity: 0.0\n",
      "MCC: nan\n",
      "F1-score: 0.5806974853360117\n",
      "ROC-AUC: 0.5239240137017387\n",
      "AUC: 0.5239240137017387\n",
      "Q9: 0.2928932188134524\n",
      "PPV: 0.4091428566752653\n",
      "NPV: 0.0\n",
      "TP: 358\n",
      "FP: 517\n",
      "TN: 0\n",
      "FN: 0\n",
      "\n",
      "\n"
     ]
    },
    {
     "name": "stderr",
     "output_type": "stream",
     "text": [
      "100%|██████████| 1/1 [00:00<00:00, 17.84it/s]\n"
     ]
    },
    {
     "name": "stdout",
     "output_type": "stream",
     "text": [
      "finished with loss 0.27660155296325684\n"
     ]
    },
    {
     "name": "stderr",
     "output_type": "stream",
     "text": [
      "100%|██████████| 100/100 [00:38<00:00,  2.60it/s]\n",
      "/var/folders/d3/q38hjcyx7tj50fgmqb4mcm8r0000gn/T/ipykernel_55766/1284111422.py:231: RuntimeWarning: invalid value encountered in scalar divide\n",
      "  MCC = float(tp * tn - fp * fn) / (np.sqrt((tp + fp) * (tp + fn) * (tn + fp) * (tn + fn)))\n"
     ]
    },
    {
     "name": "stdout",
     "output_type": "stream",
     "text": [
      "Epoch: 21\n",
      "Accuracy: 0.3775055679287305\n",
      "Precision: 0.3775055675083457\n",
      "Recall: 0.9999999970501475\n",
      "Sensitivity: 0.9999999970501475\n",
      "Specificity: 0.0\n",
      "MCC: nan\n",
      "F1-score: 0.5481002420791429\n",
      "ROC-AUC: 0.5133059983852328\n",
      "AUC: 0.5133059983852328\n",
      "Q9: 0.2928932188134524\n",
      "PPV: 0.3775055675083457\n",
      "NPV: 0.0\n",
      "TP: 339\n",
      "FP: 559\n",
      "TN: 0\n",
      "FN: 0\n",
      "\n",
      "\n"
     ]
    },
    {
     "name": "stderr",
     "output_type": "stream",
     "text": [
      "100%|██████████| 1/1 [00:00<00:00,  8.54it/s]\n"
     ]
    },
    {
     "name": "stdout",
     "output_type": "stream",
     "text": [
      "finished with loss 0.2754545609156291\n"
     ]
    },
    {
     "name": "stderr",
     "output_type": "stream",
     "text": [
      "100%|██████████| 100/100 [00:40<00:00,  2.49it/s]\n",
      "/var/folders/d3/q38hjcyx7tj50fgmqb4mcm8r0000gn/T/ipykernel_55766/1284111422.py:231: RuntimeWarning: invalid value encountered in scalar divide\n",
      "  MCC = float(tp * tn - fp * fn) / (np.sqrt((tp + fp) * (tp + fn) * (tn + fp) * (tn + fn)))\n"
     ]
    },
    {
     "name": "stdout",
     "output_type": "stream",
     "text": [
      "Epoch: 22\n",
      "Accuracy: 0.40607424071991\n",
      "Precision: 0.4060742402631336\n",
      "Recall: 0.999999997229917\n",
      "Sensitivity: 0.999999997229917\n",
      "Specificity: 0.0\n",
      "MCC: nan\n",
      "F1-score: 0.57759999953792\n",
      "ROC-AUC: 0.4737445437757072\n",
      "AUC: 0.4737445437757072\n",
      "Q9: 0.2928932188134524\n",
      "PPV: 0.4060742402631336\n",
      "NPV: 0.0\n",
      "TP: 361\n",
      "FP: 528\n",
      "TN: 0\n",
      "FN: 0\n",
      "\n",
      "\n"
     ]
    },
    {
     "name": "stderr",
     "output_type": "stream",
     "text": [
      "100%|██████████| 1/1 [00:00<00:00,  5.67it/s]\n"
     ]
    },
    {
     "name": "stdout",
     "output_type": "stream",
     "text": [
      "finished with loss 0.22011101245880127\n"
     ]
    },
    {
     "name": "stderr",
     "output_type": "stream",
     "text": [
      "100%|██████████| 100/100 [00:37<00:00,  2.67it/s]\n",
      "/var/folders/d3/q38hjcyx7tj50fgmqb4mcm8r0000gn/T/ipykernel_55766/1284111422.py:231: RuntimeWarning: invalid value encountered in scalar divide\n",
      "  MCC = float(tp * tn - fp * fn) / (np.sqrt((tp + fp) * (tp + fn) * (tn + fp) * (tn + fn)))\n"
     ]
    },
    {
     "name": "stdout",
     "output_type": "stream",
     "text": [
      "Epoch: 23\n",
      "Accuracy: 0.4222972972972973\n",
      "Precision: 0.4222972968217373\n",
      "Recall: 0.9999999973333333\n",
      "Sensitivity: 0.9999999973333333\n",
      "Specificity: 0.0\n",
      "MCC: nan\n",
      "F1-score: 0.5938242275583339\n",
      "ROC-AUC: 0.46913580246913583\n",
      "AUC: 0.46913580246913583\n",
      "Q9: 0.2928932188134524\n",
      "PPV: 0.4222972968217373\n",
      "NPV: 0.0\n",
      "TP: 375\n",
      "FP: 513\n",
      "TN: 0\n",
      "FN: 0\n",
      "\n",
      "\n"
     ]
    },
    {
     "name": "stderr",
     "output_type": "stream",
     "text": [
      "100%|██████████| 1/1 [00:00<00:00,  4.51it/s]\n"
     ]
    },
    {
     "name": "stdout",
     "output_type": "stream",
     "text": [
      "finished with loss 0.24753127495447794\n"
     ]
    },
    {
     "name": "stderr",
     "output_type": "stream",
     "text": [
      "100%|██████████| 100/100 [00:48<00:00,  2.07it/s]\n",
      "/var/folders/d3/q38hjcyx7tj50fgmqb4mcm8r0000gn/T/ipykernel_55766/1284111422.py:231: RuntimeWarning: invalid value encountered in scalar divide\n",
      "  MCC = float(tp * tn - fp * fn) / (np.sqrt((tp + fp) * (tp + fn) * (tn + fp) * (tn + fn)))\n"
     ]
    },
    {
     "name": "stdout",
     "output_type": "stream",
     "text": [
      "Epoch: 24\n",
      "Accuracy: 0.40621531631520535\n",
      "Precision: 0.40621531586435594\n",
      "Recall: 0.9999999972677596\n",
      "Sensitivity: 0.9999999972677596\n",
      "Specificity: 0.0\n",
      "MCC: nan\n",
      "F1-score: 0.5777426988336679\n",
      "ROC-AUC: 0.5044635105459374\n",
      "AUC: 0.5044635105459374\n",
      "Q9: 0.2928932188134524\n",
      "PPV: 0.40621531586435594\n",
      "NPV: 0.0\n",
      "TP: 366\n",
      "FP: 535\n",
      "TN: 0\n",
      "FN: 0\n",
      "\n",
      "\n"
     ]
    },
    {
     "name": "stderr",
     "output_type": "stream",
     "text": [
      "100%|██████████| 1/1 [00:00<00:00,  5.55it/s]\n"
     ]
    },
    {
     "name": "stdout",
     "output_type": "stream",
     "text": [
      "finished with loss 0.24758213758468628\n"
     ]
    },
    {
     "name": "stderr",
     "output_type": "stream",
     "text": [
      "100%|██████████| 100/100 [00:44<00:00,  2.26it/s]\n",
      "/var/folders/d3/q38hjcyx7tj50fgmqb4mcm8r0000gn/T/ipykernel_55766/1284111422.py:231: RuntimeWarning: invalid value encountered in scalar divide\n",
      "  MCC = float(tp * tn - fp * fn) / (np.sqrt((tp + fp) * (tp + fn) * (tn + fp) * (tn + fn)))\n"
     ]
    },
    {
     "name": "stdout",
     "output_type": "stream",
     "text": [
      "Epoch: 25\n",
      "Accuracy: 0.40939597315436244\n",
      "Precision: 0.4093959726964251\n",
      "Recall: 0.9999999972677596\n",
      "Sensitivity: 0.9999999972677596\n",
      "Specificity: 0.0\n",
      "MCC: nan\n",
      "F1-score: 0.5809523804913076\n",
      "ROC-AUC: 0.5206263454214274\n",
      "AUC: 0.5206263454214274\n",
      "Q9: 0.2928932188134524\n",
      "PPV: 0.4093959726964251\n",
      "NPV: 0.0\n",
      "TP: 366\n",
      "FP: 528\n",
      "TN: 0\n",
      "FN: 0\n",
      "\n",
      "\n"
     ]
    },
    {
     "name": "stderr",
     "output_type": "stream",
     "text": [
      "100%|██████████| 1/1 [00:00<00:00, 10.16it/s]\n"
     ]
    },
    {
     "name": "stdout",
     "output_type": "stream",
     "text": [
      "finished with loss 0.2476383646329244\n"
     ]
    },
    {
     "name": "stderr",
     "output_type": "stream",
     "text": [
      "100%|██████████| 100/100 [00:38<00:00,  2.61it/s]\n",
      "/var/folders/d3/q38hjcyx7tj50fgmqb4mcm8r0000gn/T/ipykernel_55766/1284111422.py:231: RuntimeWarning: invalid value encountered in scalar divide\n",
      "  MCC = float(tp * tn - fp * fn) / (np.sqrt((tp + fp) * (tp + fn) * (tn + fp) * (tn + fn)))\n"
     ]
    },
    {
     "name": "stdout",
     "output_type": "stream",
     "text": [
      "Epoch: 26\n",
      "Accuracy: 0.4163860830527497\n",
      "Precision: 0.41638608258542525\n",
      "Recall: 0.9999999973045822\n",
      "Sensitivity: 0.9999999973045822\n",
      "Specificity: 0.0\n",
      "MCC: nan\n",
      "F1-score: 0.5879556255245993\n",
      "ROC-AUC: 0.5076793489529339\n",
      "AUC: 0.5076793489529339\n",
      "Q9: 0.2928932188134524\n",
      "PPV: 0.41638608258542525\n",
      "NPV: 0.0\n",
      "TP: 371\n",
      "FP: 520\n",
      "TN: 0\n",
      "FN: 0\n",
      "\n",
      "\n"
     ]
    },
    {
     "name": "stderr",
     "output_type": "stream",
     "text": [
      "100%|██████████| 1/1 [00:00<00:00, 11.73it/s]\n"
     ]
    },
    {
     "name": "stdout",
     "output_type": "stream",
     "text": [
      "finished with loss 0.27545881271362305\n"
     ]
    },
    {
     "name": "stderr",
     "output_type": "stream",
     "text": [
      "100%|██████████| 100/100 [00:41<00:00,  2.44it/s]\n",
      "/var/folders/d3/q38hjcyx7tj50fgmqb4mcm8r0000gn/T/ipykernel_55766/1284111422.py:231: RuntimeWarning: invalid value encountered in scalar divide\n",
      "  MCC = float(tp * tn - fp * fn) / (np.sqrt((tp + fp) * (tp + fn) * (tn + fp) * (tn + fn)))\n"
     ]
    },
    {
     "name": "stdout",
     "output_type": "stream",
     "text": [
      "Epoch: 27\n",
      "Accuracy: 0.4312638580931264\n",
      "Precision: 0.4312638576150068\n",
      "Recall: 0.9999999974293059\n",
      "Sensitivity: 0.9999999974293059\n",
      "Specificity: 0.0\n",
      "MCC: nan\n",
      "F1-score: 0.6026336168840948\n",
      "ROC-AUC: 0.4391928120787545\n",
      "AUC: 0.4391928120787545\n",
      "Q9: 0.2928932188134524\n",
      "PPV: 0.4312638576150068\n",
      "NPV: 0.0\n",
      "TP: 389\n",
      "FP: 513\n",
      "TN: 0\n",
      "FN: 0\n",
      "\n",
      "\n"
     ]
    },
    {
     "name": "stderr",
     "output_type": "stream",
     "text": [
      "100%|██████████| 1/1 [00:00<00:00,  9.52it/s]\n"
     ]
    },
    {
     "name": "stdout",
     "output_type": "stream",
     "text": [
      "finished with loss 0.21955233812332153\n"
     ]
    },
    {
     "name": "stderr",
     "output_type": "stream",
     "text": [
      "100%|██████████| 100/100 [00:43<00:00,  2.32it/s]\n",
      "/var/folders/d3/q38hjcyx7tj50fgmqb4mcm8r0000gn/T/ipykernel_55766/1284111422.py:231: RuntimeWarning: invalid value encountered in scalar divide\n",
      "  MCC = float(tp * tn - fp * fn) / (np.sqrt((tp + fp) * (tp + fn) * (tn + fp) * (tn + fn)))\n"
     ]
    },
    {
     "name": "stdout",
     "output_type": "stream",
     "text": [
      "Epoch: 28\n",
      "Accuracy: 0.40816326530612246\n",
      "Precision: 0.4081632648433523\n",
      "Recall: 0.9999999972222222\n",
      "Sensitivity: 0.9999999972222222\n",
      "Specificity: 0.0\n",
      "MCC: nan\n",
      "F1-score: 0.5797101444607808\n",
      "ROC-AUC: 0.49159216687952323\n",
      "AUC: 0.49159216687952323\n",
      "Q9: 0.2928932188134524\n",
      "PPV: 0.4081632648433523\n",
      "NPV: 0.0\n",
      "TP: 360\n",
      "FP: 522\n",
      "TN: 0\n",
      "FN: 0\n",
      "\n",
      "\n"
     ]
    },
    {
     "name": "stderr",
     "output_type": "stream",
     "text": [
      "100%|██████████| 1/1 [00:00<00:00,  5.56it/s]\n"
     ]
    },
    {
     "name": "stdout",
     "output_type": "stream",
     "text": [
      "finished with loss 0.22006601095199585\n"
     ]
    },
    {
     "name": "stderr",
     "output_type": "stream",
     "text": [
      "100%|██████████| 100/100 [00:47<00:00,  2.09it/s]\n",
      "/var/folders/d3/q38hjcyx7tj50fgmqb4mcm8r0000gn/T/ipykernel_55766/1284111422.py:231: RuntimeWarning: invalid value encountered in scalar divide\n",
      "  MCC = float(tp * tn - fp * fn) / (np.sqrt((tp + fp) * (tp + fn) * (tn + fp) * (tn + fn)))\n"
     ]
    },
    {
     "name": "stdout",
     "output_type": "stream",
     "text": [
      "Epoch: 29\n",
      "Accuracy: 0.40468227424749165\n",
      "Precision: 0.4046822737963408\n",
      "Recall: 0.9999999972451791\n",
      "Sensitivity: 0.9999999972451791\n",
      "Specificity: 0.0\n",
      "MCC: nan\n",
      "F1-score: 0.5761904757331822\n",
      "ROC-AUC: 0.49074246035430913\n",
      "AUC: 0.49074246035430913\n",
      "Q9: 0.2928932188134524\n",
      "PPV: 0.4046822737963408\n",
      "NPV: 0.0\n",
      "TP: 363\n",
      "FP: 534\n",
      "TN: 0\n",
      "FN: 0\n",
      "\n",
      "\n"
     ]
    },
    {
     "data": {
      "application/vnd.jupyter.widget-view+json": {
       "model_id": "8d6e28ecbf134e0d8eaff207911575f7",
       "version_major": 2,
       "version_minor": 0
      },
      "text/plain": [
       "VBox(children=(Label(value='0.001 MB of 0.001 MB uploaded\\r'), FloatProgress(value=1.0, max=1.0)))"
      ]
     },
     "metadata": {},
     "output_type": "display_data"
    },
    {
     "data": {
      "text/html": [
       "<style>\n",
       "    table.wandb td:nth-child(1) { padding: 0 10px; text-align: left ; width: auto;} td:nth-child(2) {text-align: left ; width: 100%}\n",
       "    .wandb-row { display: flex; flex-direction: row; flex-wrap: wrap; justify-content: flex-start; width: 100% }\n",
       "    .wandb-col { display: flex; flex-direction: column; flex-basis: 100%; flex: 1; padding: 10px; }\n",
       "    </style>\n",
       "<div class=\"wandb-row\"><div class=\"wandb-col\"><h3>Run history:</h3><br/><table class=\"wandb\"><tr><td>AUC</td><td>▆▆▄▄▅▄▆▅▆█▄▇▃▅▅▄▃▁▆▅▇▆▃▃▅▇▆▁▅▅</td></tr><tr><td>F1_score</td><td>▁▂▄██▅▄▆▅▃▅▆▄▃▆▆▁▄▄▅▅▁▅▇▅▅▆█▅▅</td></tr><tr><td>FN</td><td>▁▁▁▁▁▁▁▁▁▁▁▁▁▁▁▁▁▁▁▁▁▁▁▁▁▁▁▁▁▁</td></tr><tr><td>FP</td><td>██▅▁▂▃▄▃▄▆▅▃▅▆▃▄▇▆▅▃▃█▅▃▅▅▄▃▄▅</td></tr><tr><td>NPV</td><td>▁▁▁▁▁▁▁▁▁▁▁▁▁▁▁▁▁▁▁▁▁▁▁▁▁▁▁▁▁▁</td></tr><tr><td>PPV</td><td>▁▂▄██▅▄▆▅▃▅▆▄▃▆▆▁▄▄▅▅▁▅▇▅▅▆█▅▅</td></tr><tr><td>Q9</td><td>▁▁▁▁▁▁▁▁▁▁▁▁▁▁▁▁▁▁▁▁▁▁▁▁▁▁▁▁▁▁</td></tr><tr><td>ROC_AUC</td><td>▆▆▄▄▅▄▆▅▆█▄▇▃▅▅▄▃▁▆▅▇▆▃▃▅▇▆▁▅▅</td></tr><tr><td>TN</td><td>▁▁▁▁▁▁▁▁▁▁▁▁▁▁▁▁▁▁▁▁▁▁▁▁▁▁▁▁▁▁</td></tr><tr><td>TP</td><td>▂▃▃▇▇▄▃▅▅▄▅▅▄▃▅▆▁▄▄▄▅▂▅▆▅▅▆█▅▅</td></tr><tr><td>accuracy</td><td>▁▂▄██▅▄▆▅▃▅▆▄▃▆▆▁▄▄▅▅▁▅▇▅▅▆█▅▅</td></tr><tr><td>epoch</td><td>▁▁▁▁▂▂▂▂▂▂▃▃▃▃▃▄▄▄▄▄▅▅▅▅▅▅▆▆▆▆▆▇▇▇▇▇████</td></tr><tr><td>fold</td><td>▁▁▁▁▁▁▁▁▁▁▁▁▁▁▁▁▁▁▁▁▁▁▁▁▁▁▁▁▁▁▁▁▁▁▁▁▁▁▁▁</td></tr><tr><td>gpu_usage_gb</td><td>▁▁▁▁▁▁▁▁▁▁▁▁▁▁▁▁▁▁▁▁▁▁▁▁▁▁▁▁▁▁</td></tr><tr><td>loss</td><td>▇▇▇▇▁█▇▇▇▇▇█▇█▇▆▇█▇████▇▇▇▇█▇▇</td></tr><tr><td>precision</td><td>▁▂▄██▅▄▆▅▃▅▆▄▃▆▆▁▄▄▅▅▁▅▇▅▅▆█▅▅</td></tr><tr><td>recall</td><td>▁▁▁▁▁▁▁▁▁▁▁▁▁▁▁▁▁▁▁▁▁▁▁▁▁▁▁▁▁▁</td></tr><tr><td>sensitivity</td><td>▁▁▁▁▁▁▁▁▁▁▁▁▁▁▁▁▁▁▁▁▁▁▁▁▁▁▁▁▁▁</td></tr><tr><td>specificity</td><td>▁▁▁▁▁▁▁▁▁▁▁▁▁▁▁▁▁▁▁▁▁▁▁▁▁▁▁▁▁▁</td></tr><tr><td>time</td><td>▁▁▁▂▂▂▂▃▃▃▃▄▄▄▄▅▅▅▅▆▆▆▆▆▇▇▇▇██</td></tr></table><br/></div><div class=\"wandb-col\"><h3>Run summary:</h3><br/><table class=\"wandb\"><tr><td>AUC</td><td>0.49074</td></tr><tr><td>F1_score</td><td>0.57619</td></tr><tr><td>FN</td><td>0</td></tr><tr><td>FP</td><td>534</td></tr><tr><td>MCC</td><td>nan</td></tr><tr><td>NPV</td><td>0.0</td></tr><tr><td>PPV</td><td>0.40468</td></tr><tr><td>Q9</td><td>0.29289</td></tr><tr><td>ROC_AUC</td><td>0.49074</td></tr><tr><td>TN</td><td>0</td></tr><tr><td>TP</td><td>363</td></tr><tr><td>accuracy</td><td>0.40468</td></tr><tr><td>epoch</td><td>29</td></tr><tr><td>fold</td><td>1</td></tr><tr><td>gpu_usage_gb</td><td>0.0</td></tr><tr><td>loss</td><td>0.22007</td></tr><tr><td>precision</td><td>0.40468</td></tr><tr><td>recall</td><td>1.0</td></tr><tr><td>sensitivity</td><td>1.0</td></tr><tr><td>specificity</td><td>0.0</td></tr><tr><td>time</td><td>1242.58989</td></tr></table><br/></div></div>"
      ],
      "text/plain": [
       "<IPython.core.display.HTML object>"
      ]
     },
     "metadata": {},
     "output_type": "display_data"
    },
    {
     "data": {
      "text/html": [
       " View run <strong style=\"color:#cdcd00\">zesty-oath-33</strong> at: <a href='https://wandb.ai/spycoderyt/promisegat4/runs/zevc9qro' target=\"_blank\">https://wandb.ai/spycoderyt/promisegat4/runs/zevc9qro</a><br/> View project at: <a href='https://wandb.ai/spycoderyt/promisegat4' target=\"_blank\">https://wandb.ai/spycoderyt/promisegat4</a><br/>Synced 6 W&B file(s), 0 media file(s), 0 artifact file(s) and 0 other file(s)"
      ],
      "text/plain": [
       "<IPython.core.display.HTML object>"
      ]
     },
     "metadata": {},
     "output_type": "display_data"
    },
    {
     "data": {
      "text/html": [
       "Find logs at: <code>./wandb/run-20240902_213352-zevc9qro/logs</code>"
      ],
      "text/plain": [
       "<IPython.core.display.HTML object>"
      ]
     },
     "metadata": {},
     "output_type": "display_data"
    },
    {
     "data": {
      "text/html": [
       "The new W&B backend becomes opt-out in version 0.18.0; try it out with `wandb.require(\"core\")`! See https://wandb.me/wandb-core for more information."
      ],
      "text/plain": [
       "<IPython.core.display.HTML object>"
      ]
     },
     "metadata": {},
     "output_type": "display_data"
    },
    {
     "data": {
      "text/html": [
       "Tracking run with wandb version 0.17.8"
      ],
      "text/plain": [
       "<IPython.core.display.HTML object>"
      ]
     },
     "metadata": {},
     "output_type": "display_data"
    },
    {
     "data": {
      "text/html": [
       "Run data is saved locally in <code>/Users/gino/promisegat4/wandb/run-20240902_215443-i7jjr5bf</code>"
      ],
      "text/plain": [
       "<IPython.core.display.HTML object>"
      ]
     },
     "metadata": {},
     "output_type": "display_data"
    },
    {
     "data": {
      "text/html": [
       "Syncing run <strong><a href='https://wandb.ai/spycoderyt/promisegat4/runs/i7jjr5bf' target=\"_blank\">elated-meadow-34</a></strong> to <a href='https://wandb.ai/spycoderyt/promisegat4' target=\"_blank\">Weights & Biases</a> (<a href='https://wandb.me/run' target=\"_blank\">docs</a>)<br/>"
      ],
      "text/plain": [
       "<IPython.core.display.HTML object>"
      ]
     },
     "metadata": {},
     "output_type": "display_data"
    },
    {
     "data": {
      "text/html": [
       " View project at <a href='https://wandb.ai/spycoderyt/promisegat4' target=\"_blank\">https://wandb.ai/spycoderyt/promisegat4</a>"
      ],
      "text/plain": [
       "<IPython.core.display.HTML object>"
      ]
     },
     "metadata": {},
     "output_type": "display_data"
    },
    {
     "data": {
      "text/html": [
       " View run at <a href='https://wandb.ai/spycoderyt/promisegat4/runs/i7jjr5bf' target=\"_blank\">https://wandb.ai/spycoderyt/promisegat4/runs/i7jjr5bf</a>"
      ],
      "text/plain": [
       "<IPython.core.display.HTML object>"
      ]
     },
     "metadata": {},
     "output_type": "display_data"
    },
    {
     "name": "stderr",
     "output_type": "stream",
     "text": [
      "100%|██████████| 1/1 [00:00<00:00,  8.51it/s]\n"
     ]
    },
    {
     "name": "stdout",
     "output_type": "stream",
     "text": [
      "finished with loss 0.2240471045176188\n"
     ]
    },
    {
     "name": "stderr",
     "output_type": "stream",
     "text": [
      "100%|██████████| 100/100 [00:48<00:00,  2.04it/s]\n",
      "/var/folders/d3/q38hjcyx7tj50fgmqb4mcm8r0000gn/T/ipykernel_55766/1284111422.py:231: RuntimeWarning: invalid value encountered in scalar divide\n",
      "  MCC = float(tp * tn - fp * fn) / (np.sqrt((tp + fp) * (tp + fn) * (tn + fp) * (tn + fn)))\n"
     ]
    },
    {
     "name": "stdout",
     "output_type": "stream",
     "text": [
      "Epoch: 0\n",
      "Accuracy: 0.59392575928009\n",
      "Precision: 0.0\n",
      "Recall: 0.0\n",
      "Sensitivity: 0.0\n",
      "Specificity: 0.9999999981060607\n",
      "MCC: nan\n",
      "F1-score: 0.0\n",
      "ROC-AUC: 0.5187111768656091\n",
      "AUC: 0.5187111768656091\n",
      "Q9: 0.2928932188134524\n",
      "PPV: 0.0\n",
      "NPV: 0.593925758612007\n",
      "TP: 0\n",
      "FP: 0\n",
      "TN: 528\n",
      "FN: 361\n",
      "\n",
      "\n"
     ]
    },
    {
     "name": "stderr",
     "output_type": "stream",
     "text": [
      "100%|██████████| 1/1 [00:00<00:00,  4.92it/s]\n"
     ]
    },
    {
     "name": "stdout",
     "output_type": "stream",
     "text": [
      "finished with loss 0.23958277702331543\n"
     ]
    },
    {
     "name": "stderr",
     "output_type": "stream",
     "text": [
      "100%|██████████| 100/100 [00:42<00:00,  2.37it/s]\n",
      "/var/folders/d3/q38hjcyx7tj50fgmqb4mcm8r0000gn/T/ipykernel_55766/1284111422.py:231: RuntimeWarning: invalid value encountered in scalar divide\n",
      "  MCC = float(tp * tn - fp * fn) / (np.sqrt((tp + fp) * (tp + fn) * (tn + fp) * (tn + fn)))\n"
     ]
    },
    {
     "name": "stdout",
     "output_type": "stream",
     "text": [
      "Epoch: 1\n",
      "Accuracy: 0.6423766816143498\n",
      "Precision: 0.0\n",
      "Recall: 0.0\n",
      "Sensitivity: 0.0\n",
      "Specificity: 0.9999999982547993\n",
      "MCC: nan\n",
      "F1-score: 0.0\n",
      "ROC-AUC: 0.4895260603872267\n",
      "AUC: 0.4895260603872267\n",
      "Q9: 0.2928932188134524\n",
      "PPV: 0.0\n",
      "NPV: 0.6423766808941965\n",
      "TP: 0\n",
      "FP: 0\n",
      "TN: 573\n",
      "FN: 319\n",
      "\n",
      "\n"
     ]
    },
    {
     "name": "stderr",
     "output_type": "stream",
     "text": [
      "100%|██████████| 1/1 [00:00<00:00, 20.64it/s]\n"
     ]
    },
    {
     "name": "stdout",
     "output_type": "stream",
     "text": [
      "finished with loss 0.2395463983217875\n"
     ]
    },
    {
     "name": "stderr",
     "output_type": "stream",
     "text": [
      "100%|██████████| 100/100 [00:46<00:00,  2.15it/s]\n",
      "/var/folders/d3/q38hjcyx7tj50fgmqb4mcm8r0000gn/T/ipykernel_55766/1284111422.py:231: RuntimeWarning: invalid value encountered in scalar divide\n",
      "  MCC = float(tp * tn - fp * fn) / (np.sqrt((tp + fp) * (tp + fn) * (tn + fp) * (tn + fn)))\n"
     ]
    },
    {
     "name": "stdout",
     "output_type": "stream",
     "text": [
      "Epoch: 2\n",
      "Accuracy: 0.5981735159817352\n",
      "Precision: 0.0\n",
      "Recall: 0.0\n",
      "Sensitivity: 0.0\n",
      "Specificity: 0.9999999980916031\n",
      "MCC: nan\n",
      "F1-score: 0.0\n",
      "ROC-AUC: 0.4938871660305344\n",
      "AUC: 0.4938871660305344\n",
      "Q9: 0.2928932188134524\n",
      "PPV: 0.0\n",
      "NPV: 0.5981735152988887\n",
      "TP: 0\n",
      "FP: 0\n",
      "TN: 524\n",
      "FN: 352\n",
      "\n",
      "\n"
     ]
    },
    {
     "name": "stderr",
     "output_type": "stream",
     "text": [
      "100%|██████████| 1/1 [00:00<00:00,  9.24it/s]\n"
     ]
    },
    {
     "name": "stdout",
     "output_type": "stream",
     "text": [
      "finished with loss 0.2087116837501526\n"
     ]
    },
    {
     "name": "stderr",
     "output_type": "stream",
     "text": [
      "100%|██████████| 100/100 [00:42<00:00,  2.34it/s]\n",
      "/var/folders/d3/q38hjcyx7tj50fgmqb4mcm8r0000gn/T/ipykernel_55766/1284111422.py:231: RuntimeWarning: invalid value encountered in scalar divide\n",
      "  MCC = float(tp * tn - fp * fn) / (np.sqrt((tp + fp) * (tp + fn) * (tn + fp) * (tn + fn)))\n"
     ]
    },
    {
     "name": "stdout",
     "output_type": "stream",
     "text": [
      "Epoch: 3\n",
      "Accuracy: 0.6183465458663646\n",
      "Precision: 0.0\n",
      "Recall: 0.0\n",
      "Sensitivity: 0.0\n",
      "Specificity: 0.9999999981684982\n",
      "MCC: nan\n",
      "F1-score: 0.0\n",
      "ROC-AUC: 0.5058858055890697\n",
      "AUC: 0.5058858055890697\n",
      "Q9: 0.2928932188134524\n",
      "PPV: 0.0\n",
      "NPV: 0.6183465451660854\n",
      "TP: 0\n",
      "FP: 0\n",
      "TN: 546\n",
      "FN: 337\n",
      "\n",
      "\n"
     ]
    },
    {
     "name": "stderr",
     "output_type": "stream",
     "text": [
      "100%|██████████| 1/1 [00:00<00:00,  6.29it/s]\n"
     ]
    },
    {
     "name": "stdout",
     "output_type": "stream",
     "text": [
      "finished with loss 0.20851737260818481\n"
     ]
    },
    {
     "name": "stderr",
     "output_type": "stream",
     "text": [
      "100%|██████████| 100/100 [00:37<00:00,  2.64it/s]\n",
      "/var/folders/d3/q38hjcyx7tj50fgmqb4mcm8r0000gn/T/ipykernel_55766/1284111422.py:231: RuntimeWarning: invalid value encountered in scalar divide\n",
      "  MCC = float(tp * tn - fp * fn) / (np.sqrt((tp + fp) * (tp + fn) * (tn + fp) * (tn + fn)))\n"
     ]
    },
    {
     "name": "stdout",
     "output_type": "stream",
     "text": [
      "Epoch: 4\n",
      "Accuracy: 0.6234498308906427\n",
      "Precision: 0.0\n",
      "Recall: 0.0\n",
      "Sensitivity: 0.0\n",
      "Specificity: 0.9999999981916817\n",
      "MCC: nan\n",
      "F1-score: 0.0\n",
      "ROC-AUC: 0.5160312286818768\n",
      "AUC: 0.5160312286818768\n",
      "Q9: 0.2928932188134524\n",
      "PPV: 0.0\n",
      "NPV: 0.6234498301877679\n",
      "TP: 0\n",
      "FP: 0\n",
      "TN: 553\n",
      "FN: 334\n",
      "\n",
      "\n"
     ]
    },
    {
     "name": "stderr",
     "output_type": "stream",
     "text": [
      "100%|██████████| 1/1 [00:00<00:00,  4.65it/s]\n"
     ]
    },
    {
     "name": "stdout",
     "output_type": "stream",
     "text": [
      "finished with loss 0.20831990242004395\n"
     ]
    },
    {
     "name": "stderr",
     "output_type": "stream",
     "text": [
      "100%|██████████| 100/100 [00:41<00:00,  2.39it/s]\n",
      "/var/folders/d3/q38hjcyx7tj50fgmqb4mcm8r0000gn/T/ipykernel_55766/1284111422.py:231: RuntimeWarning: invalid value encountered in scalar divide\n",
      "  MCC = float(tp * tn - fp * fn) / (np.sqrt((tp + fp) * (tp + fn) * (tn + fp) * (tn + fn)))\n"
     ]
    },
    {
     "name": "stdout",
     "output_type": "stream",
     "text": [
      "Epoch: 5\n",
      "Accuracy: 0.588500563697858\n",
      "Precision: 0.0\n",
      "Recall: 0.0\n",
      "Sensitivity: 0.0\n",
      "Specificity: 0.9999999980842912\n",
      "MCC: nan\n",
      "F1-score: 0.0\n",
      "ROC-AUC: 0.5011468010287093\n",
      "AUC: 0.5011468010287093\n",
      "Q9: 0.2928932188134524\n",
      "PPV: 0.0\n",
      "NPV: 0.5885005630343849\n",
      "TP: 0\n",
      "FP: 0\n",
      "TN: 522\n",
      "FN: 365\n",
      "\n",
      "\n"
     ]
    },
    {
     "name": "stderr",
     "output_type": "stream",
     "text": [
      "100%|██████████| 1/1 [00:00<00:00,  3.15it/s]\n"
     ]
    },
    {
     "name": "stdout",
     "output_type": "stream",
     "text": [
      "finished with loss 0.22409703334172568\n"
     ]
    },
    {
     "name": "stderr",
     "output_type": "stream",
     "text": [
      "100%|██████████| 100/100 [00:37<00:00,  2.64it/s]\n",
      "/var/folders/d3/q38hjcyx7tj50fgmqb4mcm8r0000gn/T/ipykernel_55766/1284111422.py:231: RuntimeWarning: invalid value encountered in scalar divide\n",
      "  MCC = float(tp * tn - fp * fn) / (np.sqrt((tp + fp) * (tp + fn) * (tn + fp) * (tn + fn)))\n"
     ]
    },
    {
     "name": "stdout",
     "output_type": "stream",
     "text": [
      "Epoch: 6\n",
      "Accuracy: 0.5857461024498887\n",
      "Precision: 0.0\n",
      "Recall: 0.0\n",
      "Sensitivity: 0.0\n",
      "Specificity: 0.9999999980988593\n",
      "MCC: nan\n",
      "F1-score: 0.0\n",
      "ROC-AUC: 0.5115167218610737\n",
      "AUC: 0.5115167218610737\n",
      "Q9: 0.2928932188134524\n",
      "PPV: 0.0\n",
      "NPV: 0.5857461017976101\n",
      "TP: 0\n",
      "FP: 0\n",
      "TN: 526\n",
      "FN: 372\n",
      "\n",
      "\n"
     ]
    },
    {
     "name": "stderr",
     "output_type": "stream",
     "text": [
      "100%|██████████| 1/1 [00:00<00:00, 11.56it/s]\n"
     ]
    },
    {
     "name": "stdout",
     "output_type": "stream",
     "text": [
      "finished with loss 0.23998238643010458\n"
     ]
    },
    {
     "name": "stderr",
     "output_type": "stream",
     "text": [
      "100%|██████████| 100/100 [00:41<00:00,  2.40it/s]\n",
      "/var/folders/d3/q38hjcyx7tj50fgmqb4mcm8r0000gn/T/ipykernel_55766/1284111422.py:231: RuntimeWarning: invalid value encountered in scalar divide\n",
      "  MCC = float(tp * tn - fp * fn) / (np.sqrt((tp + fp) * (tp + fn) * (tn + fp) * (tn + fn)))\n"
     ]
    },
    {
     "name": "stdout",
     "output_type": "stream",
     "text": [
      "Epoch: 7\n",
      "Accuracy: 0.617877094972067\n",
      "Precision: 0.0\n",
      "Recall: 0.0\n",
      "Sensitivity: 0.0\n",
      "Specificity: 0.9999999981916817\n",
      "MCC: nan\n",
      "F1-score: 0.0\n",
      "ROC-AUC: 0.5313785518648944\n",
      "AUC: 0.5313785518648944\n",
      "Q9: 0.2928932188134524\n",
      "PPV: 0.0\n",
      "NPV: 0.6178770942817016\n",
      "TP: 0\n",
      "FP: 0\n",
      "TN: 553\n",
      "FN: 342\n",
      "\n",
      "\n"
     ]
    },
    {
     "name": "stderr",
     "output_type": "stream",
     "text": [
      "100%|██████████| 1/1 [00:00<00:00,  8.70it/s]\n"
     ]
    },
    {
     "name": "stdout",
     "output_type": "stream",
     "text": [
      "finished with loss 0.23225931326548258\n"
     ]
    },
    {
     "name": "stderr",
     "output_type": "stream",
     "text": [
      "100%|██████████| 100/100 [00:38<00:00,  2.61it/s]\n",
      "/var/folders/d3/q38hjcyx7tj50fgmqb4mcm8r0000gn/T/ipykernel_55766/1284111422.py:231: RuntimeWarning: invalid value encountered in scalar divide\n",
      "  MCC = float(tp * tn - fp * fn) / (np.sqrt((tp + fp) * (tp + fn) * (tn + fp) * (tn + fn)))\n"
     ]
    },
    {
     "name": "stdout",
     "output_type": "stream",
     "text": [
      "Epoch: 8\n",
      "Accuracy: 0.5840807174887892\n",
      "Precision: 0.0\n",
      "Recall: 0.0\n",
      "Sensitivity: 0.0\n",
      "Specificity: 0.9999999980806142\n",
      "MCC: nan\n",
      "F1-score: 0.0\n",
      "ROC-AUC: 0.49998965290675723\n",
      "AUC: 0.49998965290675723\n",
      "Q9: 0.2928932188134524\n",
      "PPV: 0.0\n",
      "NPV: 0.5840807168339902\n",
      "TP: 0\n",
      "FP: 0\n",
      "TN: 521\n",
      "FN: 371\n",
      "\n",
      "\n"
     ]
    },
    {
     "name": "stderr",
     "output_type": "stream",
     "text": [
      "100%|██████████| 1/1 [00:00<00:00, 13.72it/s]\n"
     ]
    },
    {
     "name": "stdout",
     "output_type": "stream",
     "text": [
      "finished with loss 0.23221067587534586\n"
     ]
    },
    {
     "name": "stderr",
     "output_type": "stream",
     "text": [
      "100%|██████████| 100/100 [00:38<00:00,  2.60it/s]\n",
      "/var/folders/d3/q38hjcyx7tj50fgmqb4mcm8r0000gn/T/ipykernel_55766/1284111422.py:231: RuntimeWarning: invalid value encountered in scalar divide\n",
      "  MCC = float(tp * tn - fp * fn) / (np.sqrt((tp + fp) * (tp + fn) * (tn + fp) * (tn + fn)))\n"
     ]
    },
    {
     "name": "stdout",
     "output_type": "stream",
     "text": [
      "Epoch: 9\n",
      "Accuracy: 0.6402234636871509\n",
      "Precision: 0.0\n",
      "Recall: 0.0\n",
      "Sensitivity: 0.0\n",
      "Specificity: 0.9999999982547993\n",
      "MCC: nan\n",
      "F1-score: 0.0\n",
      "ROC-AUC: 0.4751200502964673\n",
      "AUC: 0.4751200502964673\n",
      "Q9: 0.2928932188134524\n",
      "PPV: 0.0\n",
      "NPV: 0.6402234629718173\n",
      "TP: 0\n",
      "FP: 0\n",
      "TN: 573\n",
      "FN: 322\n",
      "\n",
      "\n"
     ]
    },
    {
     "name": "stderr",
     "output_type": "stream",
     "text": [
      "100%|██████████| 1/1 [00:00<00:00,  2.76it/s]\n"
     ]
    },
    {
     "name": "stdout",
     "output_type": "stream",
     "text": [
      "finished with loss 0.2563989957173665\n"
     ]
    },
    {
     "name": "stderr",
     "output_type": "stream",
     "text": [
      "100%|██████████| 100/100 [00:37<00:00,  2.64it/s]\n",
      "/var/folders/d3/q38hjcyx7tj50fgmqb4mcm8r0000gn/T/ipykernel_55766/1284111422.py:231: RuntimeWarning: invalid value encountered in scalar divide\n",
      "  MCC = float(tp * tn - fp * fn) / (np.sqrt((tp + fp) * (tp + fn) * (tn + fp) * (tn + fn)))\n"
     ]
    },
    {
     "name": "stdout",
     "output_type": "stream",
     "text": [
      "Epoch: 10\n",
      "Accuracy: 0.6349384098544233\n",
      "Precision: 0.0\n",
      "Recall: 0.0\n",
      "Sensitivity: 0.0\n",
      "Specificity: 0.9999999982363316\n",
      "MCC: nan\n",
      "F1-score: 0.0\n",
      "ROC-AUC: 0.5214750976509668\n",
      "AUC: 0.5214750976509668\n",
      "Q9: 0.2928932188134524\n",
      "PPV: 0.0\n",
      "NPV: 0.634938409143406\n",
      "TP: 0\n",
      "FP: 0\n",
      "TN: 567\n",
      "FN: 326\n",
      "\n",
      "\n"
     ]
    },
    {
     "name": "stderr",
     "output_type": "stream",
     "text": [
      "100%|██████████| 1/1 [00:00<00:00,  7.33it/s]\n"
     ]
    },
    {
     "name": "stdout",
     "output_type": "stream",
     "text": [
      "finished with loss 0.2239823341369629\n"
     ]
    },
    {
     "name": "stderr",
     "output_type": "stream",
     "text": [
      "100%|██████████| 100/100 [00:40<00:00,  2.44it/s]\n",
      "/var/folders/d3/q38hjcyx7tj50fgmqb4mcm8r0000gn/T/ipykernel_55766/1284111422.py:231: RuntimeWarning: invalid value encountered in scalar divide\n",
      "  MCC = float(tp * tn - fp * fn) / (np.sqrt((tp + fp) * (tp + fn) * (tn + fp) * (tn + fn)))\n"
     ]
    },
    {
     "name": "stdout",
     "output_type": "stream",
     "text": [
      "Epoch: 11\n",
      "Accuracy: 0.5910614525139665\n",
      "Precision: 0.0\n",
      "Recall: 0.0\n",
      "Sensitivity: 0.0\n",
      "Specificity: 0.9999999981096408\n",
      "MCC: nan\n",
      "F1-score: 0.0\n",
      "ROC-AUC: 0.4657643558833555\n",
      "AUC: 0.4657643558833555\n",
      "Q9: 0.2928932188134524\n",
      "PPV: 0.0\n",
      "NPV: 0.5910614518535626\n",
      "TP: 0\n",
      "FP: 0\n",
      "TN: 529\n",
      "FN: 366\n",
      "\n",
      "\n"
     ]
    },
    {
     "name": "stderr",
     "output_type": "stream",
     "text": [
      "100%|██████████| 1/1 [00:00<00:00,  4.31it/s]\n"
     ]
    },
    {
     "name": "stdout",
     "output_type": "stream",
     "text": [
      "finished with loss 0.23205586274464926\n"
     ]
    },
    {
     "name": "stderr",
     "output_type": "stream",
     "text": [
      "100%|██████████| 100/100 [00:42<00:00,  2.38it/s]\n",
      "/var/folders/d3/q38hjcyx7tj50fgmqb4mcm8r0000gn/T/ipykernel_55766/1284111422.py:231: RuntimeWarning: invalid value encountered in scalar divide\n",
      "  MCC = float(tp * tn - fp * fn) / (np.sqrt((tp + fp) * (tp + fn) * (tn + fp) * (tn + fn)))\n"
     ]
    },
    {
     "name": "stdout",
     "output_type": "stream",
     "text": [
      "Epoch: 12\n",
      "Accuracy: 0.5928411633109619\n",
      "Precision: 0.0\n",
      "Recall: 0.0\n",
      "Sensitivity: 0.0\n",
      "Specificity: 0.9999999981132075\n",
      "MCC: nan\n",
      "F1-score: 0.0\n",
      "ROC-AUC: 0.4952674683806759\n",
      "AUC: 0.4952674683806759\n",
      "Q9: 0.2928932188134524\n",
      "PPV: 0.0\n",
      "NPV: 0.5928411626478287\n",
      "TP: 0\n",
      "FP: 0\n",
      "TN: 530\n",
      "FN: 364\n",
      "\n",
      "\n"
     ]
    },
    {
     "name": "stderr",
     "output_type": "stream",
     "text": [
      "100%|██████████| 1/1 [00:00<00:00, 16.28it/s]\n"
     ]
    },
    {
     "name": "stdout",
     "output_type": "stream",
     "text": [
      "finished with loss 0.23187931378682455\n"
     ]
    },
    {
     "name": "stderr",
     "output_type": "stream",
     "text": [
      "100%|██████████| 100/100 [00:38<00:00,  2.63it/s]\n",
      "/var/folders/d3/q38hjcyx7tj50fgmqb4mcm8r0000gn/T/ipykernel_55766/1284111422.py:231: RuntimeWarning: invalid value encountered in scalar divide\n",
      "  MCC = float(tp * tn - fp * fn) / (np.sqrt((tp + fp) * (tp + fn) * (tn + fp) * (tn + fn)))\n"
     ]
    },
    {
     "name": "stdout",
     "output_type": "stream",
     "text": [
      "Epoch: 13\n",
      "Accuracy: 0.6343963553530751\n",
      "Precision: 0.0\n",
      "Recall: 0.0\n",
      "Sensitivity: 0.0\n",
      "Specificity: 0.9999999982046679\n",
      "MCC: nan\n",
      "F1-score: 0.0\n",
      "ROC-AUC: 0.5405264070426238\n",
      "AUC: 0.5405264070426238\n",
      "Q9: 0.2928932188134524\n",
      "PPV: 0.0\n",
      "NPV: 0.6343963546305281\n",
      "TP: 0\n",
      "FP: 0\n",
      "TN: 557\n",
      "FN: 321\n",
      "\n",
      "\n"
     ]
    },
    {
     "name": "stderr",
     "output_type": "stream",
     "text": [
      "100%|██████████| 1/1 [00:00<00:00,  5.49it/s]\n"
     ]
    },
    {
     "name": "stdout",
     "output_type": "stream",
     "text": [
      "finished with loss 0.25587620337804157\n"
     ]
    },
    {
     "name": "stderr",
     "output_type": "stream",
     "text": [
      "100%|██████████| 100/100 [00:39<00:00,  2.54it/s]\n",
      "/var/folders/d3/q38hjcyx7tj50fgmqb4mcm8r0000gn/T/ipykernel_55766/1284111422.py:231: RuntimeWarning: invalid value encountered in scalar divide\n",
      "  MCC = float(tp * tn - fp * fn) / (np.sqrt((tp + fp) * (tp + fn) * (tn + fp) * (tn + fn)))\n"
     ]
    },
    {
     "name": "stdout",
     "output_type": "stream",
     "text": [
      "Epoch: 14\n",
      "Accuracy: 0.6006787330316742\n",
      "Precision: 0.0\n",
      "Recall: 0.0\n",
      "Sensitivity: 0.0\n",
      "Specificity: 0.9999999981167609\n",
      "MCC: nan\n",
      "F1-score: 0.0\n",
      "ROC-AUC: 0.512689190847351\n",
      "AUC: 0.512689190847351\n",
      "Q9: 0.2928932188134524\n",
      "PPV: 0.0\n",
      "NPV: 0.6006787323521734\n",
      "TP: 0\n",
      "FP: 0\n",
      "TN: 531\n",
      "FN: 353\n",
      "\n",
      "\n"
     ]
    },
    {
     "name": "stderr",
     "output_type": "stream",
     "text": [
      "100%|██████████| 1/1 [00:00<00:00, 12.06it/s]\n"
     ]
    },
    {
     "name": "stdout",
     "output_type": "stream",
     "text": [
      "finished with loss 0.23985004425048828\n"
     ]
    },
    {
     "name": "stderr",
     "output_type": "stream",
     "text": [
      "100%|██████████| 100/100 [00:41<00:00,  2.40it/s]\n",
      "/var/folders/d3/q38hjcyx7tj50fgmqb4mcm8r0000gn/T/ipykernel_55766/1284111422.py:231: RuntimeWarning: invalid value encountered in scalar divide\n",
      "  MCC = float(tp * tn - fp * fn) / (np.sqrt((tp + fp) * (tp + fn) * (tn + fp) * (tn + fn)))\n"
     ]
    },
    {
     "name": "stdout",
     "output_type": "stream",
     "text": [
      "Epoch: 15\n",
      "Accuracy: 0.6153846153846154\n",
      "Precision: 0.0\n",
      "Recall: 0.0\n",
      "Sensitivity: 0.0\n",
      "Specificity: 0.9999999981884058\n",
      "MCC: nan\n",
      "F1-score: 0.0\n",
      "ROC-AUC: 0.519594097878597\n",
      "AUC: 0.519594097878597\n",
      "Q9: 0.2928932188134524\n",
      "PPV: 0.0\n",
      "NPV: 0.6153846146985679\n",
      "TP: 0\n",
      "FP: 0\n",
      "TN: 552\n",
      "FN: 345\n",
      "\n",
      "\n"
     ]
    },
    {
     "name": "stderr",
     "output_type": "stream",
     "text": [
      "100%|██████████| 1/1 [00:00<00:00, 12.37it/s]\n"
     ]
    },
    {
     "name": "stdout",
     "output_type": "stream",
     "text": [
      "finished with loss 0.2396943767865499\n"
     ]
    },
    {
     "name": "stderr",
     "output_type": "stream",
     "text": [
      "100%|██████████| 100/100 [00:42<00:00,  2.36it/s]\n",
      "/var/folders/d3/q38hjcyx7tj50fgmqb4mcm8r0000gn/T/ipykernel_55766/1284111422.py:231: RuntimeWarning: invalid value encountered in scalar divide\n",
      "  MCC = float(tp * tn - fp * fn) / (np.sqrt((tp + fp) * (tp + fn) * (tn + fp) * (tn + fn)))\n"
     ]
    },
    {
     "name": "stdout",
     "output_type": "stream",
     "text": [
      "Epoch: 16\n",
      "Accuracy: 0.6325369738339022\n",
      "Precision: 0.0\n",
      "Recall: 0.0\n",
      "Sensitivity: 0.0\n",
      "Specificity: 0.9999999982014388\n",
      "MCC: nan\n",
      "F1-score: 0.0\n",
      "ROC-AUC: 0.5342255607278883\n",
      "AUC: 0.5342255607278883\n",
      "Q9: 0.2928932188134524\n",
      "PPV: 0.0\n",
      "NPV: 0.6325369731142924\n",
      "TP: 0\n",
      "FP: 0\n",
      "TN: 556\n",
      "FN: 323\n",
      "\n",
      "\n"
     ]
    },
    {
     "name": "stderr",
     "output_type": "stream",
     "text": [
      "100%|██████████| 1/1 [00:00<00:00,  2.76it/s]\n"
     ]
    },
    {
     "name": "stdout",
     "output_type": "stream",
     "text": [
      "finished with loss 0.22364219029744467\n"
     ]
    },
    {
     "name": "stderr",
     "output_type": "stream",
     "text": [
      "100%|██████████| 100/100 [00:40<00:00,  2.48it/s]\n",
      "/var/folders/d3/q38hjcyx7tj50fgmqb4mcm8r0000gn/T/ipykernel_55766/1284111422.py:231: RuntimeWarning: invalid value encountered in scalar divide\n",
      "  MCC = float(tp * tn - fp * fn) / (np.sqrt((tp + fp) * (tp + fn) * (tn + fp) * (tn + fn)))\n"
     ]
    },
    {
     "name": "stdout",
     "output_type": "stream",
     "text": [
      "Epoch: 17\n",
      "Accuracy: 0.6124293785310735\n",
      "Precision: 0.0\n",
      "Recall: 0.0\n",
      "Sensitivity: 0.0\n",
      "Specificity: 0.9999999981549815\n",
      "MCC: nan\n",
      "F1-score: 0.0\n",
      "ROC-AUC: 0.49135315697180293\n",
      "AUC: 0.49135315697180293\n",
      "Q9: 0.2928932188134524\n",
      "PPV: 0.0\n",
      "NPV: 0.6124293778390628\n",
      "TP: 0\n",
      "FP: 0\n",
      "TN: 542\n",
      "FN: 343\n",
      "\n",
      "\n"
     ]
    },
    {
     "name": "stderr",
     "output_type": "stream",
     "text": [
      "100%|██████████| 1/1 [00:00<00:00,  3.46it/s]\n"
     ]
    },
    {
     "name": "stdout",
     "output_type": "stream",
     "text": [
      "finished with loss 0.24000495672225952\n"
     ]
    },
    {
     "name": "stderr",
     "output_type": "stream",
     "text": [
      "100%|██████████| 100/100 [00:37<00:00,  2.70it/s]\n",
      "/var/folders/d3/q38hjcyx7tj50fgmqb4mcm8r0000gn/T/ipykernel_55766/1284111422.py:231: RuntimeWarning: invalid value encountered in scalar divide\n",
      "  MCC = float(tp * tn - fp * fn) / (np.sqrt((tp + fp) * (tp + fn) * (tn + fp) * (tn + fn)))\n"
     ]
    },
    {
     "name": "stdout",
     "output_type": "stream",
     "text": [
      "Epoch: 18\n",
      "Accuracy: 0.6048834628190899\n",
      "Precision: 0.0\n",
      "Recall: 0.0\n",
      "Sensitivity: 0.0\n",
      "Specificity: 0.9999999981651376\n",
      "MCC: nan\n",
      "F1-score: 0.0\n",
      "ROC-AUC: 0.5146557055973612\n",
      "AUC: 0.5146557055973612\n",
      "Q9: 0.2928932188134524\n",
      "PPV: 0.0\n",
      "NPV: 0.6048834621477431\n",
      "TP: 0\n",
      "FP: 0\n",
      "TN: 545\n",
      "FN: 356\n",
      "\n",
      "\n"
     ]
    },
    {
     "name": "stderr",
     "output_type": "stream",
     "text": [
      "100%|██████████| 1/1 [00:00<00:00,  5.31it/s]\n"
     ]
    },
    {
     "name": "stdout",
     "output_type": "stream",
     "text": [
      "finished with loss 0.20790404081344604\n"
     ]
    },
    {
     "name": "stderr",
     "output_type": "stream",
     "text": [
      "100%|██████████| 100/100 [00:43<00:00,  2.32it/s]\n",
      "/var/folders/d3/q38hjcyx7tj50fgmqb4mcm8r0000gn/T/ipykernel_55766/1284111422.py:231: RuntimeWarning: invalid value encountered in scalar divide\n",
      "  MCC = float(tp * tn - fp * fn) / (np.sqrt((tp + fp) * (tp + fn) * (tn + fp) * (tn + fn)))\n"
     ]
    },
    {
     "name": "stdout",
     "output_type": "stream",
     "text": [
      "Epoch: 19\n",
      "Accuracy: 0.6535874439461884\n",
      "Precision: 0.0\n",
      "Recall: 0.0\n",
      "Sensitivity: 0.0\n",
      "Specificity: 0.9999999982847342\n",
      "MCC: nan\n",
      "F1-score: 0.0\n",
      "ROC-AUC: 0.4833302802711119\n",
      "AUC: 0.4833302802711119\n",
      "Q9: 0.2928932188134524\n",
      "PPV: 0.0\n",
      "NPV: 0.653587443213467\n",
      "TP: 0\n",
      "FP: 0\n",
      "TN: 583\n",
      "FN: 309\n",
      "\n",
      "\n"
     ]
    },
    {
     "name": "stderr",
     "output_type": "stream",
     "text": [
      "100%|██████████| 1/1 [00:00<00:00, 15.41it/s]\n"
     ]
    },
    {
     "name": "stdout",
     "output_type": "stream",
     "text": [
      "finished with loss 0.20806614557902017\n"
     ]
    },
    {
     "name": "stderr",
     "output_type": "stream",
     "text": [
      "100%|██████████| 100/100 [00:38<00:00,  2.61it/s]\n",
      "/var/folders/d3/q38hjcyx7tj50fgmqb4mcm8r0000gn/T/ipykernel_55766/1284111422.py:231: RuntimeWarning: invalid value encountered in scalar divide\n",
      "  MCC = float(tp * tn - fp * fn) / (np.sqrt((tp + fp) * (tp + fn) * (tn + fp) * (tn + fn)))\n"
     ]
    },
    {
     "name": "stdout",
     "output_type": "stream",
     "text": [
      "Epoch: 20\n",
      "Accuracy: 0.6121076233183856\n",
      "Precision: 0.0\n",
      "Recall: 0.0\n",
      "Sensitivity: 0.0\n",
      "Specificity: 0.9999999981684982\n",
      "MCC: nan\n",
      "F1-score: 0.0\n",
      "ROC-AUC: 0.49543977217387625\n",
      "AUC: 0.49543977217387625\n",
      "Q9: 0.2928932188134524\n",
      "PPV: 0.0\n",
      "NPV: 0.6121076226321663\n",
      "TP: 0\n",
      "FP: 0\n",
      "TN: 546\n",
      "FN: 346\n",
      "\n",
      "\n"
     ]
    },
    {
     "name": "stderr",
     "output_type": "stream",
     "text": [
      "100%|██████████| 1/1 [00:00<00:00,  6.51it/s]\n"
     ]
    },
    {
     "name": "stdout",
     "output_type": "stream",
     "text": [
      "finished with loss 0.20736591021219888\n"
     ]
    },
    {
     "name": "stderr",
     "output_type": "stream",
     "text": [
      "100%|██████████| 100/100 [00:39<00:00,  2.50it/s]\n",
      "/var/folders/d3/q38hjcyx7tj50fgmqb4mcm8r0000gn/T/ipykernel_55766/1284111422.py:231: RuntimeWarning: invalid value encountered in scalar divide\n",
      "  MCC = float(tp * tn - fp * fn) / (np.sqrt((tp + fp) * (tp + fn) * (tn + fp) * (tn + fn)))\n"
     ]
    },
    {
     "name": "stdout",
     "output_type": "stream",
     "text": [
      "Epoch: 21\n",
      "Accuracy: 0.598434004474273\n",
      "Precision: 0.0\n",
      "Recall: 0.0\n",
      "Sensitivity: 0.0\n",
      "Specificity: 0.9999999981308412\n",
      "MCC: nan\n",
      "F1-score: 0.0\n",
      "ROC-AUC: 0.5162002447088225\n",
      "AUC: 0.5162002447088225\n",
      "Q9: 0.2928932188134524\n",
      "PPV: 0.0\n",
      "NPV: 0.5984340038048837\n",
      "TP: 0\n",
      "FP: 0\n",
      "TN: 535\n",
      "FN: 359\n",
      "\n",
      "\n"
     ]
    },
    {
     "name": "stderr",
     "output_type": "stream",
     "text": [
      "100%|██████████| 1/1 [00:00<00:00,  7.86it/s]\n"
     ]
    },
    {
     "name": "stdout",
     "output_type": "stream",
     "text": [
      "finished with loss 0.25580843289693195\n"
     ]
    },
    {
     "name": "stderr",
     "output_type": "stream",
     "text": [
      "100%|██████████| 100/100 [00:37<00:00,  2.67it/s]\n",
      "/var/folders/d3/q38hjcyx7tj50fgmqb4mcm8r0000gn/T/ipykernel_55766/1284111422.py:231: RuntimeWarning: invalid value encountered in scalar divide\n",
      "  MCC = float(tp * tn - fp * fn) / (np.sqrt((tp + fp) * (tp + fn) * (tn + fp) * (tn + fn)))\n"
     ]
    },
    {
     "name": "stdout",
     "output_type": "stream",
     "text": [
      "Epoch: 22\n",
      "Accuracy: 0.5629213483146067\n",
      "Precision: 0.0\n",
      "Recall: 0.0\n",
      "Sensitivity: 0.0\n",
      "Specificity: 0.999999998003992\n",
      "MCC: nan\n",
      "F1-score: 0.0\n",
      "ROC-AUC: 0.5060778186557476\n",
      "AUC: 0.5060778186557476\n",
      "Q9: 0.2928932188134524\n",
      "PPV: 0.0\n",
      "NPV: 0.5629213476821109\n",
      "TP: 0\n",
      "FP: 0\n",
      "TN: 501\n",
      "FN: 389\n",
      "\n",
      "\n"
     ]
    },
    {
     "name": "stderr",
     "output_type": "stream",
     "text": [
      "100%|██████████| 1/1 [00:00<00:00,  3.40it/s]\n"
     ]
    },
    {
     "name": "stdout",
     "output_type": "stream",
     "text": [
      "finished with loss 0.20809334516525269\n"
     ]
    },
    {
     "name": "stderr",
     "output_type": "stream",
     "text": [
      "100%|██████████| 100/100 [00:38<00:00,  2.58it/s]\n",
      "/var/folders/d3/q38hjcyx7tj50fgmqb4mcm8r0000gn/T/ipykernel_55766/1284111422.py:231: RuntimeWarning: invalid value encountered in scalar divide\n",
      "  MCC = float(tp * tn - fp * fn) / (np.sqrt((tp + fp) * (tp + fn) * (tn + fp) * (tn + fn)))\n"
     ]
    },
    {
     "name": "stdout",
     "output_type": "stream",
     "text": [
      "Epoch: 23\n",
      "Accuracy: 0.5974914481185861\n",
      "Precision: 0.0\n",
      "Recall: 0.0\n",
      "Sensitivity: 0.0\n",
      "Specificity: 0.9999999980916031\n",
      "MCC: nan\n",
      "F1-score: 0.0\n",
      "ROC-AUC: 0.5069659191661441\n",
      "AUC: 0.5069659191661441\n",
      "Q9: 0.2928932188134524\n",
      "PPV: 0.0\n",
      "NPV: 0.597491447437296\n",
      "TP: 0\n",
      "FP: 0\n",
      "TN: 524\n",
      "FN: 353\n",
      "\n",
      "\n"
     ]
    },
    {
     "name": "stderr",
     "output_type": "stream",
     "text": [
      "100%|██████████| 1/1 [00:00<00:00, 13.31it/s]\n"
     ]
    },
    {
     "name": "stdout",
     "output_type": "stream",
     "text": [
      "finished with loss 0.24000519514083862\n"
     ]
    },
    {
     "name": "stderr",
     "output_type": "stream",
     "text": [
      "100%|██████████| 100/100 [00:45<00:00,  2.19it/s]\n",
      "/var/folders/d3/q38hjcyx7tj50fgmqb4mcm8r0000gn/T/ipykernel_55766/1284111422.py:231: RuntimeWarning: invalid value encountered in scalar divide\n",
      "  MCC = float(tp * tn - fp * fn) / (np.sqrt((tp + fp) * (tp + fn) * (tn + fp) * (tn + fn)))\n"
     ]
    },
    {
     "name": "stdout",
     "output_type": "stream",
     "text": [
      "Epoch: 24\n",
      "Accuracy: 0.6331828442437923\n",
      "Precision: 0.0\n",
      "Recall: 0.0\n",
      "Sensitivity: 0.0\n",
      "Specificity: 0.9999999982174688\n",
      "MCC: nan\n",
      "F1-score: 0.0\n",
      "ROC-AUC: 0.5325709584533114\n",
      "AUC: 0.5325709584533114\n",
      "Q9: 0.2928932188134524\n",
      "PPV: 0.0\n",
      "NPV: 0.633182843529139\n",
      "TP: 0\n",
      "FP: 0\n",
      "TN: 561\n",
      "FN: 325\n",
      "\n",
      "\n"
     ]
    },
    {
     "name": "stderr",
     "output_type": "stream",
     "text": [
      "100%|██████████| 1/1 [00:00<00:00,  2.51it/s]\n"
     ]
    },
    {
     "name": "stdout",
     "output_type": "stream",
     "text": [
      "finished with loss 0.24011355638504028\n"
     ]
    },
    {
     "name": "stderr",
     "output_type": "stream",
     "text": [
      " 73%|███████▎  | 73/100 [00:29<00:11,  2.41it/s]"
     ]
    }
   ],
   "source": [
    "train_size = 3\n",
    "test_size = 1000\n",
    "batch_size = 10\n",
    "log_wandb = True\n",
    "\n",
    "for train, test in kfold.split(examples):\n",
    "    dataset_train = examples[train]  # mod, prot1, prot2, int, int_family\n",
    "    dataset_test = examples[test]\n",
    "\n",
    "    start = timeit.default_timer()\n",
    "\n",
    "    model = ProteinProteinInteractionPrediction(\n",
    "        dim=dim, \n",
    "        layer_gnn=layer_gnn, \n",
    "        mod_embed=\"rdkit\", \n",
    "        prot_embed = \"gnn\",\n",
    "    ).to(device)\n",
    "    trainer = Trainer(model, lr = lr, train_size=train_size, batch_size=batch_size)\n",
    "    file_model = \"ppim/model/\" + \"sep2_model_fold_\" + str(fold_count)\n",
    "    file_result = \"ppim/result/\" + \"sep2_results_fold_\" + str(fold_count) + \".txt\"\n",
    "    if log_wandb:\n",
    "        wandb.init(project=\"promisegat4\")\n",
    "        # Log file paths to wandb\n",
    "        wandb.config.update({\n",
    "            \"fold\": fold_count,\n",
    "            \"model_path\": file_model,\n",
    "            \"result_path\": file_result,\n",
    "            \"protein_embed\": \"gcn\",\n",
    "            \"mod_embed\": \"gcn\",\n",
    "            \"radius\": radius,\n",
    "            \"dim\": dim,\n",
    "            \"layer_gnn\": layer_gnn,\n",
    "            \"lr\": lr,\n",
    "            \"lr_decay\": lr_decay,\n",
    "            \"decay_interval\": decay_interval,\n",
    "            \"iteration\": iteration\n",
    "        })\n",
    "\n",
    "    for epoch in range(iteration):\n",
    "        if (epoch + 1) % decay_interval == 0:\n",
    "            trainer.optimizer.param_groups[0][\"lr\"] *= lr_decay\n",
    "\n",
    "        loss = trainer.train(dataset_train)\n",
    "        print(f\"finished with loss {loss}\")\n",
    "\n",
    "        # Log training loss and GPU usage to wandb\n",
    "        gpu_usage = torch.cuda.memory_allocated(device=device) / 1024 ** 3  # in GB\n",
    "        if log_wandb:\n",
    "            wandb.log({\"epoch\": epoch, \"loss\": loss, \"gpu_usage_gb\": gpu_usage, \"fold\": fold_count})\n",
    "\n",
    "        tester = Tester(model, test_size = test_size,batch_size=batch_size)\n",
    "        (\n",
    "            accuracy,\n",
    "            precision,\n",
    "            recall,\n",
    "            sensitivity,\n",
    "            specificity,\n",
    "            MCC,\n",
    "            F1_score,\n",
    "            roc_auc_val,\n",
    "            auc_val,\n",
    "            Q9,\n",
    "            ppv,\n",
    "            npv,\n",
    "            tp,\n",
    "            fp,\n",
    "            tn,\n",
    "            fn,\n",
    "        ) = tester.test(dataset_test, epoch=epoch)\n",
    "        end = timeit.default_timer()\n",
    "        time = end - start\n",
    "\n",
    "        # Log results to wandb\n",
    "        if log_wandb:\n",
    "            wandb.log({\n",
    "            \"epoch\": epoch,\n",
    "            \"time\": time,\n",
    "            \"accuracy\": accuracy,\n",
    "            \"precision\": precision,\n",
    "            \"recall\": recall,\n",
    "            \"sensitivity\": sensitivity,\n",
    "            \"specificity\": specificity,\n",
    "            \"MCC\": MCC,\n",
    "            \"F1_score\": F1_score,\n",
    "            \"ROC_AUC\": roc_auc_val,\n",
    "            \"AUC\": auc_val,\n",
    "            \"Q9\": Q9,\n",
    "            \"PPV\": ppv,\n",
    "            \"NPV\": npv,\n",
    "            \"TP\": tp,\n",
    "            \"FP\": fp,\n",
    "            \"TN\": tn,\n",
    "            \"FN\": fn,\n",
    "            \"fold\": fold_count\n",
    "        })\n",
    "\n",
    "        tester.result(\n",
    "            epoch,\n",
    "            time,\n",
    "            loss,\n",
    "            accuracy,\n",
    "            precision,\n",
    "            recall,\n",
    "            sensitivity,\n",
    "            specificity,\n",
    "            MCC,\n",
    "            F1_score,\n",
    "            roc_auc_val,\n",
    "            auc_val,\n",
    "            Q9,\n",
    "            ppv,\n",
    "            npv,\n",
    "            tp,\n",
    "            fp,\n",
    "            tn,\n",
    "            fn,\n",
    "            file_result,\n",
    "        )\n",
    "        tester.save_model(model, file_model)\n",
    "\n",
    "\n",
    "        print(\"Epoch: \" + str(epoch))\n",
    "        print(\"Accuracy: \" + str(accuracy))\n",
    "        print(\"Precision: \" + str(precision))\n",
    "        print(\"Recall: \" + str(recall))\n",
    "        print(\"Sensitivity: \" + str(sensitivity))\n",
    "        print(\"Specificity: \" + str(specificity))\n",
    "        print(\"MCC: \" + str(MCC))\n",
    "        print(\"F1-score: \" + str(F1_score))\n",
    "        print(\"ROC-AUC: \" + str(roc_auc_val))\n",
    "        print(\"AUC: \" + str(auc_val))\n",
    "        print(\"Q9: \" + str(Q9))\n",
    "        print(\"PPV: \" + str(ppv))\n",
    "        print(\"NPV: \" + str(npv))\n",
    "        print(\"TP: \" + str(tp))\n",
    "        print(\"FP: \" + str(fp))\n",
    "        print(\"TN: \" + str(tn))\n",
    "        print(\"FN: \" + str(fn))\n",
    "        print(\"\\n\")\n",
    "\n",
    "        torch.manual_seed(1234)\n",
    "    if log_wandb:\n",
    "        wandb.finish()\n",
    "    fold_count += 1"
   ]
  },
  {
   "cell_type": "code",
   "execution_count": null,
   "metadata": {},
   "outputs": [],
   "source": []
  },
  {
   "cell_type": "code",
   "execution_count": null,
   "metadata": {},
   "outputs": [],
   "source": []
  },
  {
   "cell_type": "code",
   "execution_count": null,
   "metadata": {},
   "outputs": [],
   "source": []
  },
  {
   "cell_type": "code",
   "execution_count": null,
   "metadata": {},
   "outputs": [],
   "source": []
  }
 ],
 "metadata": {
  "kernelspec": {
   "display_name": "promisegat4",
   "language": "python",
   "name": "promisegat4"
  },
  "language_info": {
   "codemirror_mode": {
    "name": "ipython",
    "version": 3
   },
   "file_extension": ".py",
   "mimetype": "text/x-python",
   "name": "python",
   "nbconvert_exporter": "python",
   "pygments_lexer": "ipython3",
   "version": "3.12.4"
  }
 },
 "nbformat": 4,
 "nbformat_minor": 2
}
